{
 "cells": [
  {
   "cell_type": "code",
   "execution_count": 1,
   "id": "30328351-d083-4fe5-b2aa-512ce77b02d5",
   "metadata": {},
   "outputs": [
    {
     "name": "stdout",
     "output_type": "stream",
     "text": [
      "1\n",
      "2\n",
      "3\n",
      "4\n",
      "5\n",
      "6\n",
      "7\n",
      "8\n",
      "9\n",
      "10\n"
     ]
    }
   ],
   "source": [
    "# Task 1: Print numbers from 1 to 10 using a for loop\n",
    "for i in range(1, 11):\n",
    "    print(i)"
   ]
  },
  {
   "cell_type": "code",
   "execution_count": 3,
   "id": "6743ac9d-a7c7-446e-9864-ce56e2f7cdb5",
   "metadata": {},
   "outputs": [
    {
     "name": "stdout",
     "output_type": "stream",
     "text": [
      "20\n",
      "19\n",
      "18\n",
      "17\n",
      "16\n",
      "15\n",
      "14\n",
      "13\n",
      "12\n",
      "11\n",
      "10\n",
      "9\n",
      "8\n",
      "7\n",
      "6\n",
      "5\n",
      "4\n",
      "3\n",
      "2\n",
      "1\n"
     ]
    }
   ],
   "source": [
    "# Task 2: Print numbers from 20 to 1 using a while loop\n",
    "n = 20\n",
    "while n >= 1:\n",
    "    print(n)\n",
    "    n -= 1"
   ]
  },
  {
   "cell_type": "code",
   "execution_count": 5,
   "id": "8993ebaa-7628-448c-996c-0a17680200f2",
   "metadata": {},
   "outputs": [
    {
     "name": "stdout",
     "output_type": "stream",
     "text": [
      "2\n",
      "4\n",
      "6\n",
      "8\n",
      "10\n"
     ]
    }
   ],
   "source": [
    "# Task 3: Print even numbers from 1 to 10\n",
    "for i in range(1, 11):\n",
    "    if i % 2 == 0:\n",
    "        print(i)"
   ]
  },
  {
   "cell_type": "code",
   "execution_count": 9,
   "id": "f6e31abe-dc7e-4ea7-9857-219cb30aa315",
   "metadata": {},
   "outputs": [
    {
     "name": "stdin",
     "output_type": "stream",
     "text": [
      "Enter a number:  20\n"
     ]
    },
    {
     "name": "stdout",
     "output_type": "stream",
     "text": [
      "1\n",
      "2\n",
      "3\n",
      "4\n",
      "5\n",
      "6\n",
      "7\n",
      "8\n",
      "9\n",
      "10\n",
      "11\n",
      "12\n",
      "13\n",
      "14\n",
      "15\n",
      "16\n",
      "17\n",
      "18\n",
      "19\n",
      "20\n"
     ]
    }
   ],
   "source": [
    "# Task 4: Prompt the user to enter a number n and print numbers from 1 to n\n",
    "n = int(input(\"Enter a number: \"))\n",
    "for i in range(1, n + 1):\n",
    "    print(i)"
   ]
  },
  {
   "cell_type": "code",
   "execution_count": 11,
   "id": "a7c9f562-c2ff-4ab1-a227-547f5be700ef",
   "metadata": {},
   "outputs": [
    {
     "name": "stdin",
     "output_type": "stream",
     "text": [
      "Enter a number:  10\n"
     ]
    },
    {
     "name": "stdout",
     "output_type": "stream",
     "text": [
      "1\n",
      "3\n",
      "5\n",
      "7\n",
      "9\n"
     ]
    }
   ],
   "source": [
    "# Task 5: Prompt the user to enter a number n and print odd numbers between 1 and n\n",
    "n = int(input(\"Enter a number: \"))\n",
    "for i in range(1, n + 1):\n",
    "    if i % 2 != 0:\n",
    "        print(i)"
   ]
  },
  {
   "cell_type": "code",
   "execution_count": 13,
   "id": "1da54ded-f0c2-431b-a23c-ff3bbea2f171",
   "metadata": {},
   "outputs": [
    {
     "name": "stdout",
     "output_type": "stream",
     "text": [
      "Happy Birthday!\n",
      "Happy Birthday!\n",
      "Happy Birthday!\n",
      "Happy Birthday!\n",
      "Happy Birthday!\n"
     ]
    }
   ],
   "source": [
    "# Task 6: Print \"Happy Birthday!\" five times\n",
    "for _ in range(5):\n",
    "    print(\"Happy Birthday!\")"
   ]
  },
  {
   "cell_type": "code",
   "execution_count": 15,
   "id": "11774c46-dab6-45af-9d15-7ec67d348bb8",
   "metadata": {},
   "outputs": [
    {
     "name": "stdin",
     "output_type": "stream",
     "text": [
      "Enter a number:  4\n"
     ]
    },
    {
     "name": "stdout",
     "output_type": "stream",
     "text": [
      "The first 4 terms of the series are:\n",
      "1 4 9 16 "
     ]
    }
   ],
   "source": [
    "# Task 7: Generate the first n terms of the series formed by squaring natural numbers\n",
    "n = int(input(\"Enter a number: \"))\n",
    "print(\"The first\", n, \"terms of the series are:\")\n",
    "for i in range(1, n + 1):\n",
    "    print(i ** 2, end=\" \")"
   ]
  },
  {
   "cell_type": "code",
   "execution_count": 17,
   "id": "3a8c19a7-e3c0-46f7-b87d-41e1a45e5bfb",
   "metadata": {},
   "outputs": [
    {
     "name": "stdin",
     "output_type": "stream",
     "text": [
      "\n",
      "Enter a number:  3\n"
     ]
    },
    {
     "name": "stdout",
     "output_type": "stream",
     "text": [
      "3 x 1 = 3\n",
      "3 x 2 = 6\n",
      "3 x 3 = 9\n",
      "3 x 4 = 12\n",
      "3 x 5 = 15\n",
      "3 x 6 = 18\n",
      "3 x 7 = 21\n",
      "3 x 8 = 24\n",
      "3 x 9 = 27\n",
      "3 x 10 = 30\n"
     ]
    }
   ],
   "source": [
    "# Task 8: Prompt the user to input a number and print its multiplication table\n",
    "n = int(input(\"\\nEnter a number: \"))\n",
    "for i in range(1, 11):\n",
    "    print(f\"{n} x {i} = {n * i}\")"
   ]
  },
  {
   "cell_type": "code",
   "execution_count": 19,
   "id": "e156841b-b54c-47d0-998f-1199e0d7e61d",
   "metadata": {},
   "outputs": [
    {
     "name": "stdout",
     "output_type": "stream",
     "text": [
      "3 7 11 15 19 23 27 31 "
     ]
    }
   ],
   "source": [
    "# Task 9: Print the first 8 terms of an arithmetic progression starting with 3 and having a common difference of 4\n",
    "start = 3\n",
    "difference = 4\n",
    "for i in range(8):\n",
    "    print(start + i * difference, end=\" \")"
   ]
  },
  {
   "cell_type": "code",
   "execution_count": 21,
   "id": "3799cf26-e026-4172-9923-e60666270823",
   "metadata": {},
   "outputs": [
    {
     "name": "stdout",
     "output_type": "stream",
     "text": [
      "2 6 18 54 162 486 "
     ]
    }
   ],
   "source": [
    "# Task 10: Print the first 6 terms of a geometric sequence starting with 2 and having a common ratio of 3\n",
    "start = 2\n",
    "ratio = 3\n",
    "for i in range(6):\n",
    "    print(start * (ratio ** i), end=\" \")"
   ]
  },
  {
   "cell_type": "code",
   "execution_count": 23,
   "id": "62d0c2b4-e792-425e-84ba-b77c3085ebe7",
   "metadata": {},
   "outputs": [
    {
     "name": "stdin",
     "output_type": "stream",
     "text": [
      "\n",
      "Enter a positive integer:  2\n"
     ]
    },
    {
     "name": "stdout",
     "output_type": "stream",
     "text": [
      "The sum of numbers from 1 to 2 is: 3\n"
     ]
    }
   ],
   "source": [
    "# Task 11: Calculate the sum of all integers from 1 to a user-entered number\n",
    "n = int(input(\"\\nEnter a positive integer: \"))\n",
    "total_sum = sum(range(1, n + 1))\n",
    "print(\"The sum of numbers from 1 to\", n, \"is:\", total_sum)"
   ]
  },
  {
   "cell_type": "code",
   "execution_count": 25,
   "id": "5a269749-1541-412e-9b34-acd2f8db71c7",
   "metadata": {},
   "outputs": [
    {
     "name": "stdin",
     "output_type": "stream",
     "text": [
      "Enter a positive integer:  4\n"
     ]
    },
    {
     "name": "stdout",
     "output_type": "stream",
     "text": [
      "The sum of reciprocals from 1 to 4 is: 2.08\n"
     ]
    }
   ],
   "source": [
    "# Task 12: Calculate the sum of reciprocals from 1 to N\n",
    "n = int(input(\"Enter a positive integer: \"))\n",
    "reciprocal_sum = sum(1 / i for i in range(1, n + 1))\n",
    "print(f\"The sum of reciprocals from 1 to {n} is: {reciprocal_sum:.2f}\")"
   ]
  },
  {
   "cell_type": "code",
   "execution_count": 27,
   "id": "5605a14f-f11e-4f68-bab5-1b3e07dfffa4",
   "metadata": {},
   "outputs": [
    {
     "name": "stdin",
     "output_type": "stream",
     "text": [
      "Enter a number:  3\n",
      "Enter a number:  7\n",
      "Enter a number:  5\n",
      "Enter a number:  5\n",
      "Enter a number:  1\n"
     ]
    },
    {
     "name": "stdout",
     "output_type": "stream",
     "text": [
      "The final running total is: 21\n"
     ]
    }
   ],
   "source": [
    "# Task 13: Prompt the user to enter a number 5 times and display the running total\n",
    "total = 0\n",
    "for _ in range(5):\n",
    "    number = int(input(\"Enter a number: \"))\n",
    "    total += number\n",
    "print(\"The final running total is:\", total)"
   ]
  },
  {
   "cell_type": "code",
   "execution_count": 29,
   "id": "5b5f8cb0-f5d2-4722-83ea-f8e4d9bba08d",
   "metadata": {},
   "outputs": [
    {
     "name": "stdin",
     "output_type": "stream",
     "text": [
      "Enter a positive integer:  3\n"
     ]
    },
    {
     "name": "stdout",
     "output_type": "stream",
     "text": [
      "The factorial of 3 is 6.\n"
     ]
    }
   ],
   "source": [
    "# Task 14: Calculate the factorial of a user-entered positive integer\n",
    "n = int(input(\"Enter a positive integer: \"))\n",
    "if n < 0:\n",
    "    print(\"Factorial does not exist for negative numbers.\")\n",
    "elif n == 0:\n",
    "    print(\"The factorial of 0 is 1.\")\n",
    "else:\n",
    "    factorial = 1\n",
    "    for i in range(1, n + 1):\n",
    "        factorial *= i\n",
    "    print(f\"The factorial of {n} is {factorial}.\")"
   ]
  },
  {
   "cell_type": "code",
   "execution_count": 31,
   "id": "9daf9fc8-29bc-4128-9bbb-f68daad5ce29",
   "metadata": {},
   "outputs": [
    {
     "name": "stdin",
     "output_type": "stream",
     "text": [
      "Enter the base:  2\n",
      "Enter the exponent:  4\n"
     ]
    },
    {
     "name": "stdout",
     "output_type": "stream",
     "text": [
      "2 to the power of 4 is 16\n"
     ]
    }
   ],
   "source": [
    "# Task 15: Calculate the power of a base number raised to an exponent without using ** or math.pow()\n",
    "base = int(input(\"Enter the base: \"))\n",
    "exponent = int(input(\"Enter the exponent: \"))\n",
    "result = 1\n",
    "if exponent > 0:\n",
    "    for _ in range(exponent):\n",
    "        result *= base\n",
    "elif exponent < 0:\n",
    "    for _ in range(-exponent):\n",
    "        result /= base\n",
    "print(f\"{base} to the power of {exponent} is {result}\")"
   ]
  },
  {
   "cell_type": "code",
   "execution_count": null,
   "id": "44054dcf-7cb1-450d-9b19-884985b84dcf",
   "metadata": {},
   "outputs": [],
   "source": []
  }
 ],
 "metadata": {
  "kernelspec": {
   "display_name": "Python 3 (ipykernel)",
   "language": "python",
   "name": "python3"
  },
  "language_info": {
   "codemirror_mode": {
    "name": "ipython",
    "version": 3
   },
   "file_extension": ".py",
   "mimetype": "text/x-python",
   "name": "python",
   "nbconvert_exporter": "python",
   "pygments_lexer": "ipython3",
   "version": "3.12.4"
  }
 },
 "nbformat": 4,
 "nbformat_minor": 5
}
