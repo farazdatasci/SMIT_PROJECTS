{
 "cells": [
  {
   "cell_type": "code",
   "execution_count": 1,
   "id": "8b9235cb-3ac5-4c64-b6ed-9e3d41004ca0",
   "metadata": {},
   "outputs": [
    {
     "data": {
      "text/plain": [
       "('Name: Alice, Age: 30, Country: USA', 'Name: Bob, Age: 25, Country: UK')"
      ]
     },
     "execution_count": 1,
     "metadata": {},
     "output_type": "execute_result"
    }
   ],
   "source": [
    "# Task 1: Create a \"Person\" class with properties name, age, and country, and a method to display details.\n",
    "\n",
    "class Person:\n",
    "    def __init__(self, name, age, country):\n",
    "        self.name = name\n",
    "        self.age = age\n",
    "        self.country = country\n",
    "\n",
    "    def display_details(self):\n",
    "        return f\"Name: {self.name}, Age: {self.age}, Country: {self.country}\"\n",
    "\n",
    "# Creating two instances of the Person class\n",
    "person1 = Person(name=\"Alice\", age=30, country=\"USA\")\n",
    "person2 = Person(name=\"Bob\", age=25, country=\"UK\")\n",
    "\n",
    "# Displaying details of both instances\n",
    "output1 = person1.display_details()\n",
    "output2 = person2.display_details()\n",
    "\n",
    "output1, output2"
   ]
  },
  {
   "cell_type": "code",
   "execution_count": 3,
   "id": "f85003b8-8cea-43b9-85e2-8045cf23fc5b",
   "metadata": {},
   "outputs": [
    {
     "name": "stdout",
     "output_type": "stream",
     "text": [
      "Area: 50\n",
      "Perimeter: 30\n"
     ]
    }
   ],
   "source": [
    "# Task 2: Create a \"Rectangle\" class\n",
    "class Rectangle:\n",
    "    def __init__(self, width, height):\n",
    "        self.width = width\n",
    "        self.height = height\n",
    "\n",
    "    def area(self):\n",
    "        return self.width * self.height\n",
    "\n",
    "    def perimeter(self):\n",
    "        return 2 * (self.width + self.height)\n",
    "\n",
    "rect = Rectangle(width=10, height=5)\n",
    "print(\"Area:\", rect.area())\n",
    "print(\"Perimeter:\", rect.perimeter())"
   ]
  },
  {
   "cell_type": "code",
   "execution_count": 5,
   "id": "e620d881-208a-4432-9471-2566a23ae83e",
   "metadata": {},
   "outputs": [
    {
     "name": "stdout",
     "output_type": "stream",
     "text": [
      "Make: Toyota, Model: Corolla, Year: 2020, Doors: 4\n"
     ]
    }
   ],
   "source": [
    "# Task 3: Create a \"Vehicle\" class with a subclass \"Car\"\n",
    "class Vehicle:\n",
    "    def __init__(self, make, model, year):\n",
    "        self.make = make\n",
    "        self.model = model\n",
    "        self.year = year\n",
    "\n",
    "    def display_details(self):\n",
    "        return f\"Make: {self.make}, Model: {self.model}, Year: {self.year}\"\n",
    "\n",
    "class Car(Vehicle):\n",
    "    def __init__(self, make, model, year, doors):\n",
    "        super().__init__(make, model, year)\n",
    "        self.doors = doors\n",
    "\n",
    "    def display_details(self):\n",
    "        return super().display_details() + f\", Doors: {self.doors}\"\n",
    "\n",
    "car = Car(make=\"Toyota\", model=\"Corolla\", year=2020, doors=4)\n",
    "print(car.display_details())"
   ]
  },
  {
   "cell_type": "code",
   "execution_count": 9,
   "id": "aae36bbd-873f-4dec-b47f-cdd3027e194a",
   "metadata": {},
   "outputs": [
    {
     "name": "stdout",
     "output_type": "stream",
     "text": [
      "Deposited 1000. New Balance: 1000\n",
      "Withdrawn 500. New Balance: 500\n"
     ]
    }
   ],
   "source": [
    "# Task 4: Create a \"BankAccount\" class\n",
    "class BankAccount:\n",
    "    def __init__(self, account_number, balance=0):\n",
    "        self.account_number = account_number\n",
    "        self.balance = balance\n",
    "\n",
    "    def deposit(self, amount):\n",
    "        self.balance += amount\n",
    "        return f\"Deposited {amount}. New Balance: {self.balance}\"\n",
    "\n",
    "    def withdraw(self, amount):\n",
    "        if amount > self.balance:\n",
    "            return \"Insufficient funds\"\n",
    "        self.balance -= amount\n",
    "        return f\"Withdrawn {amount}. New Balance: {self.balance}\"\n",
    "\n",
    "account = BankAccount(account_number=\"786345\")\n",
    "print(account.deposit(1000))\n",
    "print(account.withdraw(500))"
   ]
  },
  {
   "cell_type": "code",
   "execution_count": 11,
   "id": "d2a31a17-a769-4121-b8d1-eb1c3f2efaa7",
   "metadata": {},
   "outputs": [
    {
     "name": "stdout",
     "output_type": "stream",
     "text": [
      "Circle Area: 153.93804002589985\n",
      "Triangle Area: 25.0\n"
     ]
    }
   ],
   "source": [
    "# Task 5: Create a \"Shape\" class with subclasses \"Circle\" and \"Triangle\"\n",
    "import math\n",
    "\n",
    "class Shape:\n",
    "    def area(self):\n",
    "        pass\n",
    "\n",
    "class Circle(Shape):\n",
    "    def __init__(self, radius):\n",
    "        self.radius = radius\n",
    "\n",
    "    def area(self):\n",
    "        return math.pi * (self.radius ** 2)\n",
    "\n",
    "class Triangle(Shape):\n",
    "    def __init__(self, base, height):\n",
    "        self.base = base\n",
    "        self.height = height\n",
    "\n",
    "    def area(self):\n",
    "        return 0.5 * self.base * self.height\n",
    "\n",
    "circle = Circle(radius=7)\n",
    "triangle = Triangle(base=10, height=5)\n",
    "print(\"Circle Area:\", circle.area())\n",
    "print(\"Triangle Area:\", triangle.area())"
   ]
  },
  {
   "cell_type": "code",
   "execution_count": 13,
   "id": "4d56d9e9-f9fe-4cb7-be9d-e534952c5282",
   "metadata": {},
   "outputs": [
    {
     "name": "stdout",
     "output_type": "stream",
     "text": [
      "Manager 1 Annual Salary: 101000\n",
      "Manager 2 Annual Salary: 128000\n"
     ]
    }
   ],
   "source": [
    "# Task 6: Create an \"Employee\" class with a subclass \"Manager\"\n",
    "class Employee:\n",
    "    def __init__(self, name, salary):\n",
    "        self.name = name\n",
    "        self.salary = salary\n",
    "\n",
    "    def annual_salary(self):\n",
    "        return self.salary * 12\n",
    "\n",
    "class Manager(Employee):\n",
    "    def __init__(self, name, salary, department, bonus):\n",
    "        super().__init__(name, salary)\n",
    "        self.department = department\n",
    "        self.bonus = bonus\n",
    "\n",
    "    def annual_salary(self):\n",
    "        return super().annual_salary() + self.bonus\n",
    "\n",
    "manager1 = Manager(name=\"Eve\", salary=8000, department=\"HR\", bonus=5000)\n",
    "manager2 = Manager(name=\"John\", salary=10000, department=\"Finance\", bonus=8000)\n",
    "print(\"Manager 1 Annual Salary:\", manager1.annual_salary())\n",
    "print(\"Manager 2 Annual Salary:\", manager2.annual_salary())"
   ]
  },
  {
   "cell_type": "code",
   "execution_count": 15,
   "id": "fdc83414-3051-4271-b479-c7d26289dda6",
   "metadata": {},
   "outputs": [
    {
     "name": "stdout",
     "output_type": "stream",
     "text": [
      "Title: Python Programming, Author: Guido van Rossum, Year: 2021, Price: 50\n"
     ]
    }
   ],
   "source": [
    "# Task 7: Create a \"Book\" class with a subclass \"Ebook\"\n",
    "class Book:\n",
    "    def __init__(self, title, author, publication_year):\n",
    "        self.title = title\n",
    "        self.author = author\n",
    "        self.publication_year = publication_year\n",
    "\n",
    "    def display_details(self):\n",
    "        return f\"Title: {self.title}, Author: {self.author}, Year: {self.publication_year}\"\n",
    "\n",
    "class Ebook(Book):\n",
    "    def __init__(self, title, author, publication_year, price):\n",
    "        super().__init__(title, author, publication_year)\n",
    "        self.price = price\n",
    "\n",
    "    def display_details(self):\n",
    "        return super().display_details() + f\", Price: {self.price}\"\n",
    "\n",
    "ebook = Ebook(title=\"Python Programming\", author=\"Guido van Rossum\", publication_year=2021, price=50)\n",
    "print(ebook.display_details())"
   ]
  },
  {
   "cell_type": "code",
   "execution_count": 17,
   "id": "95f8aebb-d816-4f75-861a-a73dfcebe240",
   "metadata": {},
   "outputs": [
    {
     "name": "stdout",
     "output_type": "stream",
     "text": [
      "Brown Dog barks: Woof\n"
     ]
    }
   ],
   "source": [
    "# Task 8: Create an \"Animal\" class with a subclass \"Dog\"\n",
    "class Animal:\n",
    "    def __init__(self, species, sound):\n",
    "        self.species = species\n",
    "        self.sound = sound\n",
    "\n",
    "    def make_sound(self):\n",
    "        return f\"{self.species} makes a sound: {self.sound}\"\n",
    "\n",
    "class Dog(Animal):\n",
    "    def __init__(self, species, sound, color):\n",
    "        super().__init__(species, sound)\n",
    "        self.color = color\n",
    "\n",
    "    def make_sound(self):\n",
    "        return f\"{self.color} {self.species} barks: {self.sound}\"\n",
    "\n",
    "dog = Dog(species=\"Dog\", sound=\"Woof\", color=\"Brown\")\n",
    "print(dog.make_sound())"
   ]
  },
  {
   "cell_type": "code",
   "execution_count": 19,
   "id": "a8348a60-e846-41e5-a7d8-dacb54f67648",
   "metadata": {},
   "outputs": [
    {
     "name": "stdout",
     "output_type": "stream",
     "text": [
      "Branch Downtown added.\n",
      "Branch Uptown added.\n",
      "Branches of National Bank: Downtown, Uptown\n",
      "Branch Downtown removed.\n",
      "Branches of National Bank: Uptown\n"
     ]
    }
   ],
   "source": [
    "# Task 9: Create a \"Bank\" class\n",
    "class Bank:\n",
    "    def __init__(self, name):\n",
    "        self.name = name\n",
    "        self.branches = []\n",
    "\n",
    "    def add_branch(self, branch_name):\n",
    "        self.branches.append(branch_name)\n",
    "        return f\"Branch {branch_name} added.\"\n",
    "\n",
    "    def remove_branch(self, branch_name):\n",
    "        if branch_name in self.branches:\n",
    "            self.branches.remove(branch_name)\n",
    "            return f\"Branch {branch_name} removed.\"\n",
    "        return \"Branch not found.\"\n",
    "\n",
    "    def display_branches(self):\n",
    "        return f\"Branches of {self.name}: {', '.join(self.branches)}\"\n",
    "\n",
    "bank = Bank(name=\"National Bank\")\n",
    "print(bank.add_branch(\"Downtown\"))\n",
    "print(bank.add_branch(\"Uptown\"))\n",
    "print(bank.display_branches())\n",
    "print(bank.remove_branch(\"Downtown\"))\n",
    "print(bank.display_branches())"
   ]
  },
  {
   "cell_type": "code",
   "execution_count": 21,
   "id": "ea395fc3-854d-4ba6-a2ae-b20f991cbedd",
   "metadata": {},
   "outputs": [
    {
     "name": "stdout",
     "output_type": "stream",
     "text": [
      "Total Price: 32\n"
     ]
    }
   ],
   "source": [
    "# Task 10: Create a \"Product\" class with a subclass \"PersonalCareProduct\"\n",
    "class Product:\n",
    "    def __init__(self, product_id, name, price):\n",
    "        self.product_id = product_id\n",
    "        self.name = name\n",
    "        self.price = price\n",
    "\n",
    "    def total_price(self, quantity):\n",
    "        return self.price * quantity\n",
    "\n",
    "class PersonalCareProduct(Product):\n",
    "    def __init__(self, product_id, name, price, warranty):\n",
    "        super().__init__(product_id, name, price)\n",
    "        self.warranty = warranty\n",
    "\n",
    "    def total_price(self, quantity):\n",
    "        return super().total_price(quantity) + self.warranty\n",
    "\n",
    "pcp = PersonalCareProduct(product_id=\"P001\", name=\"Shampoo\", price=10, warranty=2)\n",
    "print(\"Total Price:\", pcp.total_price(3))"
   ]
  },
  {
   "cell_type": "code",
   "execution_count": 23,
   "id": "c48303fb-758f-41b1-b09a-fcd9584d52d5",
   "metadata": {},
   "outputs": [
    {
     "name": "stdout",
     "output_type": "stream",
     "text": [
      "Transferred 200 to Bob. Your New Balance: 800\n",
      "Withdrawn 100. New Balance: 700\n",
      "Deposited 300. New Balance: 1000\n"
     ]
    }
   ],
   "source": [
    "# Task 11: Enhanced \"BankAccount\" class with transfer\n",
    "class BankAccount:\n",
    "    def __init__(self, account_number, account_holder, balance=0):\n",
    "        self.account_number = account_number\n",
    "        self.account_holder = account_holder\n",
    "        self.balance = balance\n",
    "\n",
    "    def deposit(self, amount):\n",
    "        self.balance += amount\n",
    "        return f\"Deposited {amount}. New Balance: {self.balance}\"\n",
    "\n",
    "    def withdraw(self, amount):\n",
    "        if amount > self.balance:\n",
    "            return \"Insufficient funds\"\n",
    "        self.balance -= amount\n",
    "        return f\"Withdrawn {amount}. New Balance: {self.balance}\"\n",
    "\n",
    "    def transfer(self, amount, recipient_account):\n",
    "        if amount > self.balance:\n",
    "            return \"Insufficient funds for transfer\"\n",
    "        self.balance -= amount\n",
    "        recipient_account.balance += amount\n",
    "        return f\"Transferred {amount} to {recipient_account.account_holder}. Your New Balance: {self.balance}\"\n",
    "\n",
    "account1 = BankAccount(account_number=\"12345\", account_holder=\"Alice\", balance=1000)\n",
    "account2 = BankAccount(account_number=\"67890\", account_holder=\"Bob\", balance=500)\n",
    "print(account1.transfer(200, account2))\n",
    "print(account1.withdraw(100))\n",
    "print(account2.deposit(300))"
   ]
  },
  {
   "cell_type": "code",
   "execution_count": null,
   "id": "f82bbd14-92ee-4b0b-9196-a87c24e81a16",
   "metadata": {},
   "outputs": [],
   "source": []
  }
 ],
 "metadata": {
  "kernelspec": {
   "display_name": "Python 3 (ipykernel)",
   "language": "python",
   "name": "python3"
  },
  "language_info": {
   "codemirror_mode": {
    "name": "ipython",
    "version": 3
   },
   "file_extension": ".py",
   "mimetype": "text/x-python",
   "name": "python",
   "nbconvert_exporter": "python",
   "pygments_lexer": "ipython3",
   "version": "3.12.4"
  }
 },
 "nbformat": 4,
 "nbformat_minor": 5
}
