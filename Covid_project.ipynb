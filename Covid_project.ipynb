{
 "cells": [
  {
   "cell_type": "code",
   "execution_count": 3,
   "id": "bd8ff148-f35b-4081-bdd6-c8e510408665",
   "metadata": {},
   "outputs": [
    {
     "name": "stdout",
     "output_type": "stream",
     "text": [
      "   Unnamed: 0 Country/Region  Confirmed Deaths  Recovered  Active  New cases  \\\n",
      "0           0    Afghanistan      36263   1269      25198    9796      106.0   \n",
      "1           1        Albania       4880    144       2745    1991      117.0   \n",
      "2           2        Algeria      27973   1163      18837    7973      616.0   \n",
      "3           3        Andorra        907     52        803      52       10.0   \n",
      "4           4         Angola        950     41        242     667       18.0   \n",
      "\n",
      "   New deaths  New recovered  Deaths / 100 Cases  Recovered / 100 Cases  \\\n",
      "0        10.0             18                3.50                  69.49   \n",
      "1         6.0             63                2.95                  56.25   \n",
      "2         8.0            749                4.16                  67.34   \n",
      "3         0.0              0                5.73                  88.53   \n",
      "4         1.0              0                4.32                  25.47   \n",
      "\n",
      "   Deaths / 100 Recovered  Confirmed last week  1 week change  \\\n",
      "0                    5.04                35526            737   \n",
      "1                    5.25                 4171            709   \n",
      "2                    6.17                23691           4282   \n",
      "3                    6.48                  884             23   \n",
      "4                   16.94                  749            201   \n",
      "\n",
      "   1 week % increase             WHO Region  \n",
      "0               2.07  Eastern Mediterranean  \n",
      "1              17.00                 Europe  \n",
      "2              18.07                 Africa  \n",
      "3               2.60                 Europe  \n",
      "4              26.84                 Africa  \n"
     ]
    }
   ],
   "source": [
    "import pandas as pd\n",
    "import matplotlib.pyplot as plt\n",
    "\n",
    "# 1. Load and Display Data\n",
    "df = pd.read_csv('C:/Users/KARAKORUM TRADERS/Downloads/covid_19_country_wise_latest.csv')  # Replace with actual dataset path\n",
    "print(df.head())"
   ]
  },
  {
   "cell_type": "code",
   "execution_count": 5,
   "id": "eb39a22f-fa02-44a4-89ea-47c8549bdbd2",
   "metadata": {},
   "outputs": [],
   "source": [
    "# 2. Set the Dataset index\n",
    "df.set_index('Unnamed: 0', inplace=True)"
   ]
  },
  {
   "cell_type": "code",
   "execution_count": 13,
   "id": "463ddc6a-1bd8-4bed-b713-cc2f4ee0c186",
   "metadata": {},
   "outputs": [
    {
     "data": {
      "text/plain": [
       "<bound method NDFrame.head of            Country/Region  Confirmed Deaths  Recovered  Active  New cases  \\\n",
       "index                                                                       \n",
       "0             Afghanistan      36263   1269      25198    9796      106.0   \n",
       "1                 Albania       4880    144       2745    1991      117.0   \n",
       "2                 Algeria      27973   1163      18837    7973      616.0   \n",
       "3                 Andorra        907     52        803      52       10.0   \n",
       "4                  Angola        950     41        242     667       18.0   \n",
       "...                   ...        ...    ...        ...     ...        ...   \n",
       "182    West Bank and Gaza      10621     78       3752    6791      152.0   \n",
       "183        Western Sahara         10      1          8       1        0.0   \n",
       "184                 Yemen       1691    483        833     375       10.0   \n",
       "185                Zambia       4552    140       2815    1597       71.0   \n",
       "186              Zimbabwe       2704    non        542    2126      192.0   \n",
       "\n",
       "       New deaths  New recovered  Deaths / 100 Cases  Recovered / 100 Cases  \\\n",
       "index                                                                         \n",
       "0            10.0             18                3.50                  69.49   \n",
       "1             6.0             63                2.95                  56.25   \n",
       "2             8.0            749                4.16                  67.34   \n",
       "3             0.0              0                5.73                  88.53   \n",
       "4             1.0              0                4.32                  25.47   \n",
       "...           ...            ...                 ...                    ...   \n",
       "182           2.0              0                0.73                  35.33   \n",
       "183           0.0              0               10.00                  80.00   \n",
       "184           4.0             36               28.56                  49.26   \n",
       "185           1.0            465                3.08                  61.84   \n",
       "186           2.0             24                1.33                  20.04   \n",
       "\n",
       "       Deaths / 100 Recovered  Confirmed last week  1 week change  \\\n",
       "index                                                               \n",
       "0                        5.04                35526            737   \n",
       "1                        5.25                 4171            709   \n",
       "2                        6.17                23691           4282   \n",
       "3                        6.48                  884             23   \n",
       "4                       16.94                  749            201   \n",
       "...                       ...                  ...            ...   \n",
       "182                      2.08                 8916           1705   \n",
       "183                     12.50                   10              0   \n",
       "184                     57.98                 1619             72   \n",
       "185                      4.97                 3326           1226   \n",
       "186                      6.64                 1713            991   \n",
       "\n",
       "       1 week % increase             WHO Region  \n",
       "index                                            \n",
       "0                   2.07  Eastern Mediterranean  \n",
       "1                  17.00                 Europe  \n",
       "2                  18.07                 Africa  \n",
       "3                   2.60                 Europe  \n",
       "4                  26.84                 Africa  \n",
       "...                  ...                    ...  \n",
       "182                19.12  Eastern Mediterranean  \n",
       "183                 0.00                 Africa  \n",
       "184                 4.45  Eastern Mediterranean  \n",
       "185                36.86                 Africa  \n",
       "186                57.85                 Africa  \n",
       "\n",
       "[187 rows x 15 columns]>"
      ]
     },
     "execution_count": 13,
     "metadata": {},
     "output_type": "execute_result"
    }
   ],
   "source": [
    "df.head"
   ]
  },
  {
   "cell_type": "code",
   "execution_count": 9,
   "id": "1797b3af-e5f3-4e1b-acb1-f965a3652b31",
   "metadata": {},
   "outputs": [],
   "source": [
    "# 3. Rename the index column\n",
    "df.index.name = 'index'"
   ]
  },
  {
   "cell_type": "code",
   "execution_count": 15,
   "id": "849618a9-55a6-420d-a8e7-dfa0337c95e7",
   "metadata": {},
   "outputs": [
    {
     "data": {
      "text/plain": [
       "<bound method NDFrame.head of            Country/Region  Confirmed Deaths  Recovered  Active  New cases  \\\n",
       "index                                                                       \n",
       "0             Afghanistan      36263   1269      25198    9796      106.0   \n",
       "1                 Albania       4880    144       2745    1991      117.0   \n",
       "2                 Algeria      27973   1163      18837    7973      616.0   \n",
       "3                 Andorra        907     52        803      52       10.0   \n",
       "4                  Angola        950     41        242     667       18.0   \n",
       "...                   ...        ...    ...        ...     ...        ...   \n",
       "182    West Bank and Gaza      10621     78       3752    6791      152.0   \n",
       "183        Western Sahara         10      1          8       1        0.0   \n",
       "184                 Yemen       1691    483        833     375       10.0   \n",
       "185                Zambia       4552    140       2815    1597       71.0   \n",
       "186              Zimbabwe       2704    non        542    2126      192.0   \n",
       "\n",
       "       New deaths  New recovered  Deaths / 100 Cases  Recovered / 100 Cases  \\\n",
       "index                                                                         \n",
       "0            10.0             18                3.50                  69.49   \n",
       "1             6.0             63                2.95                  56.25   \n",
       "2             8.0            749                4.16                  67.34   \n",
       "3             0.0              0                5.73                  88.53   \n",
       "4             1.0              0                4.32                  25.47   \n",
       "...           ...            ...                 ...                    ...   \n",
       "182           2.0              0                0.73                  35.33   \n",
       "183           0.0              0               10.00                  80.00   \n",
       "184           4.0             36               28.56                  49.26   \n",
       "185           1.0            465                3.08                  61.84   \n",
       "186           2.0             24                1.33                  20.04   \n",
       "\n",
       "       Deaths / 100 Recovered  Confirmed last week  1 week change  \\\n",
       "index                                                               \n",
       "0                        5.04                35526            737   \n",
       "1                        5.25                 4171            709   \n",
       "2                        6.17                23691           4282   \n",
       "3                        6.48                  884             23   \n",
       "4                       16.94                  749            201   \n",
       "...                       ...                  ...            ...   \n",
       "182                      2.08                 8916           1705   \n",
       "183                     12.50                   10              0   \n",
       "184                     57.98                 1619             72   \n",
       "185                      4.97                 3326           1226   \n",
       "186                      6.64                 1713            991   \n",
       "\n",
       "       1 week % increase             WHO Region  \n",
       "index                                            \n",
       "0                   2.07  Eastern Mediterranean  \n",
       "1                  17.00                 Europe  \n",
       "2                  18.07                 Africa  \n",
       "3                   2.60                 Europe  \n",
       "4                  26.84                 Africa  \n",
       "...                  ...                    ...  \n",
       "182                19.12  Eastern Mediterranean  \n",
       "183                 0.00                 Africa  \n",
       "184                 4.45  Eastern Mediterranean  \n",
       "185                36.86                 Africa  \n",
       "186                57.85                 Africa  \n",
       "\n",
       "[187 rows x 15 columns]>"
      ]
     },
     "execution_count": 15,
     "metadata": {},
     "output_type": "execute_result"
    }
   ],
   "source": [
    "df.head"
   ]
  },
  {
   "cell_type": "code",
   "execution_count": 17,
   "id": "e75fa6ed-b0f1-4fbc-85e1-5a1b2ba36439",
   "metadata": {},
   "outputs": [],
   "source": [
    "# 4. Function to replace whitespace with underscores\n",
    "def clean_columns(dataframe):\n",
    "    dataframe.columns = dataframe.columns.str.replace(' ', '_')\n",
    "    return dataframe\n",
    "\n",
    "df = clean_columns(df)"
   ]
  },
  {
   "cell_type": "code",
   "execution_count": 19,
   "id": "81b63a8d-ab44-4706-bafa-24b9a1d4a74c",
   "metadata": {},
   "outputs": [
    {
     "name": "stdout",
     "output_type": "stream",
     "text": [
      "      Country/Region  Confirmed Deaths  Recovered  Active  New_cases  \\\n",
      "index                                                                  \n",
      "0        Afghanistan      36263   1269      25198    9796      106.0   \n",
      "1            Albania       4880    144       2745    1991      117.0   \n",
      "2            Algeria      27973   1163      18837    7973      616.0   \n",
      "3            Andorra        907     52        803      52       10.0   \n",
      "4             Angola        950     41        242     667       18.0   \n",
      "\n",
      "       New_deaths  New_recovered  Deaths_/_100_Cases  Recovered_/_100_Cases  \\\n",
      "index                                                                         \n",
      "0            10.0             18                3.50                  69.49   \n",
      "1             6.0             63                2.95                  56.25   \n",
      "2             8.0            749                4.16                  67.34   \n",
      "3             0.0              0                5.73                  88.53   \n",
      "4             1.0              0                4.32                  25.47   \n",
      "\n",
      "       Deaths_/_100_Recovered  Confirmed_last_week  1_week_change  \\\n",
      "index                                                               \n",
      "0                        5.04                35526            737   \n",
      "1                        5.25                 4171            709   \n",
      "2                        6.17                23691           4282   \n",
      "3                        6.48                  884             23   \n",
      "4                       16.94                  749            201   \n",
      "\n",
      "       1_week_%_increase             WHO_Region  \n",
      "index                                            \n",
      "0                   2.07  Eastern Mediterranean  \n",
      "1                  17.00                 Europe  \n",
      "2                  18.07                 Africa  \n",
      "3                   2.60                 Europe  \n",
      "4                  26.84                 Africa  \n"
     ]
    }
   ],
   "source": [
    "print(df.head())"
   ]
  },
  {
   "cell_type": "code",
   "execution_count": 21,
   "id": "7efddc57-04d1-44ae-9d54-33f0f8042e16",
   "metadata": {},
   "outputs": [
    {
     "name": "stdout",
     "output_type": "stream",
     "text": [
      "Column Names: Index(['Country/Region', 'Confirmed', 'Deaths', 'Recovered', 'Active',\n",
      "       'New_cases', 'New_deaths', 'New_recovered', 'Deaths_/_100_Cases',\n",
      "       'Recovered_/_100_Cases', 'Deaths_/_100_Recovered',\n",
      "       'Confirmed_last_week', '1_week_change', '1_week_%_increase',\n",
      "       'WHO_Region'],\n",
      "      dtype='object')\n",
      "Data Types:\n",
      " Country/Region             object\n",
      "Confirmed                   int64\n",
      "Deaths                     object\n",
      "Recovered                   int64\n",
      "Active                      int64\n",
      "New_cases                 float64\n",
      "New_deaths                float64\n",
      "New_recovered               int64\n",
      "Deaths_/_100_Cases        float64\n",
      "Recovered_/_100_Cases     float64\n",
      "Deaths_/_100_Recovered    float64\n",
      "Confirmed_last_week         int64\n",
      "1_week_change               int64\n",
      "1_week_%_increase         float64\n",
      "WHO_Region                 object\n",
      "dtype: object\n",
      "Missing Values:\n",
      " Country/Region             0\n",
      "Confirmed                  0\n",
      "Deaths                     0\n",
      "Recovered                  0\n",
      "Active                     0\n",
      "New_cases                 10\n",
      "New_deaths                10\n",
      "New_recovered              0\n",
      "Deaths_/_100_Cases         0\n",
      "Recovered_/_100_Cases      0\n",
      "Deaths_/_100_Recovered     0\n",
      "Confirmed_last_week        0\n",
      "1_week_change              0\n",
      "1_week_%_increase          0\n",
      "WHO_Region                 0\n",
      "dtype: int64\n"
     ]
    }
   ],
   "source": [
    "# 5. Check Basic Information\n",
    "print(\"Column Names:\", df.columns)\n",
    "print(\"Data Types:\\n\", df.dtypes)\n",
    "print(\"Missing Values:\\n\", df.isnull().sum())"
   ]
  },
  {
   "cell_type": "code",
   "execution_count": 25,
   "id": "9de5f131-1bfb-4351-98b4-d3e5a4fe9b26",
   "metadata": {},
   "outputs": [],
   "source": [
    "# 6. Fill NaN values with column mean\n",
    "df.fillna(df.select_dtypes(include=['number']).mean(), inplace=True)"
   ]
  },
  {
   "cell_type": "code",
   "execution_count": 27,
   "id": "8933ae83-abee-4a71-bdce-51f950bbf74c",
   "metadata": {},
   "outputs": [
    {
     "name": "stdout",
     "output_type": "stream",
     "text": [
      "      Country/Region  Confirmed Deaths  Recovered  Active  New_cases  \\\n",
      "index                                                                  \n",
      "0        Afghanistan      36263   1269      25198    9796      106.0   \n",
      "1            Albania       4880    144       2745    1991      117.0   \n",
      "2            Algeria      27973   1163      18837    7973      616.0   \n",
      "3            Andorra        907     52        803      52       10.0   \n",
      "4             Angola        950     41        242     667       18.0   \n",
      "\n",
      "       New_deaths  New_recovered  Deaths_/_100_Cases  Recovered_/_100_Cases  \\\n",
      "index                                                                         \n",
      "0            10.0             18                3.50                  69.49   \n",
      "1             6.0             63                2.95                  56.25   \n",
      "2             8.0            749                4.16                  67.34   \n",
      "3             0.0              0                5.73                  88.53   \n",
      "4             1.0              0                4.32                  25.47   \n",
      "\n",
      "       Deaths_/_100_Recovered  Confirmed_last_week  1_week_change  \\\n",
      "index                                                               \n",
      "0                        5.04                35526            737   \n",
      "1                        5.25                 4171            709   \n",
      "2                        6.17                23691           4282   \n",
      "3                        6.48                  884             23   \n",
      "4                       16.94                  749            201   \n",
      "\n",
      "       1_week_%_increase             WHO_Region  \n",
      "index                                            \n",
      "0                   2.07  Eastern Mediterranean  \n",
      "1                  17.00                 Europe  \n",
      "2                  18.07                 Africa  \n",
      "3                   2.60                 Europe  \n",
      "4                  26.84                 Africa  \n"
     ]
    }
   ],
   "source": [
    "print(df.head())"
   ]
  },
  {
   "cell_type": "code",
   "execution_count": 29,
   "id": "6ccc1a9e-c70e-442f-9379-15eb4441a410",
   "metadata": {},
   "outputs": [
    {
     "name": "stdout",
     "output_type": "stream",
     "text": [
      "Unique countries: 187\n"
     ]
    }
   ],
   "source": [
    "# 7. Count unique countries\n",
    "print(\"Unique countries:\", df['Country/Region'].nunique())"
   ]
  },
  {
   "cell_type": "code",
   "execution_count": 31,
   "id": "31498fed-a7b2-48b9-b469-123f2a99bb4c",
   "metadata": {},
   "outputs": [],
   "source": [
    "# 8. Remove duplicate country entries\n",
    "df = df.drop_duplicates(subset=['Country/Region'])"
   ]
  },
  {
   "cell_type": "code",
   "execution_count": 33,
   "id": "1dc10e0b-4662-4f10-9717-db8eb008260c",
   "metadata": {},
   "outputs": [
    {
     "name": "stdout",
     "output_type": "stream",
     "text": [
      "Data after removing duplicate countries:\n",
      "       Country/Region  Confirmed Deaths  Recovered  Active  New_cases  \\\n",
      "index                                                                  \n",
      "0        Afghanistan      36263   1269      25198    9796      106.0   \n",
      "1            Albania       4880    144       2745    1991      117.0   \n",
      "2            Algeria      27973   1163      18837    7973      616.0   \n",
      "3            Andorra        907     52        803      52       10.0   \n",
      "4             Angola        950     41        242     667       18.0   \n",
      "\n",
      "       New_deaths  New_recovered  Deaths_/_100_Cases  Recovered_/_100_Cases  \\\n",
      "index                                                                         \n",
      "0            10.0             18                3.50                  69.49   \n",
      "1             6.0             63                2.95                  56.25   \n",
      "2             8.0            749                4.16                  67.34   \n",
      "3             0.0              0                5.73                  88.53   \n",
      "4             1.0              0                4.32                  25.47   \n",
      "\n",
      "       Deaths_/_100_Recovered  Confirmed_last_week  1_week_change  \\\n",
      "index                                                               \n",
      "0                        5.04                35526            737   \n",
      "1                        5.25                 4171            709   \n",
      "2                        6.17                23691           4282   \n",
      "3                        6.48                  884             23   \n",
      "4                       16.94                  749            201   \n",
      "\n",
      "       1_week_%_increase             WHO_Region  \n",
      "index                                            \n",
      "0                   2.07  Eastern Mediterranean  \n",
      "1                  17.00                 Europe  \n",
      "2                  18.07                 Africa  \n",
      "3                   2.60                 Europe  \n",
      "4                  26.84                 Africa  \n"
     ]
    }
   ],
   "source": [
    "print(\"Data after removing duplicate countries:\\n\", df.head())"
   ]
  },
  {
   "cell_type": "code",
   "execution_count": 35,
   "id": "ee7adb55-7e57-45b9-a9dc-c9dccd61cbb3",
   "metadata": {},
   "outputs": [
    {
     "ename": "KeyError",
     "evalue": "'Total_Cases'",
     "output_type": "error",
     "traceback": [
      "\u001b[1;31m---------------------------------------------------------------------------\u001b[0m",
      "\u001b[1;31mKeyError\u001b[0m                                  Traceback (most recent call last)",
      "File \u001b[1;32m~\\anaconda3\\Lib\\site-packages\\pandas\\core\\indexes\\base.py:3805\u001b[0m, in \u001b[0;36mIndex.get_loc\u001b[1;34m(self, key)\u001b[0m\n\u001b[0;32m   3804\u001b[0m \u001b[38;5;28;01mtry\u001b[39;00m:\n\u001b[1;32m-> 3805\u001b[0m     \u001b[38;5;28;01mreturn\u001b[39;00m \u001b[38;5;28mself\u001b[39m\u001b[38;5;241m.\u001b[39m_engine\u001b[38;5;241m.\u001b[39mget_loc(casted_key)\n\u001b[0;32m   3806\u001b[0m \u001b[38;5;28;01mexcept\u001b[39;00m \u001b[38;5;167;01mKeyError\u001b[39;00m \u001b[38;5;28;01mas\u001b[39;00m err:\n",
      "File \u001b[1;32mindex.pyx:167\u001b[0m, in \u001b[0;36mpandas._libs.index.IndexEngine.get_loc\u001b[1;34m()\u001b[0m\n",
      "File \u001b[1;32mindex.pyx:196\u001b[0m, in \u001b[0;36mpandas._libs.index.IndexEngine.get_loc\u001b[1;34m()\u001b[0m\n",
      "File \u001b[1;32mpandas\\\\_libs\\\\hashtable_class_helper.pxi:7081\u001b[0m, in \u001b[0;36mpandas._libs.hashtable.PyObjectHashTable.get_item\u001b[1;34m()\u001b[0m\n",
      "File \u001b[1;32mpandas\\\\_libs\\\\hashtable_class_helper.pxi:7089\u001b[0m, in \u001b[0;36mpandas._libs.hashtable.PyObjectHashTable.get_item\u001b[1;34m()\u001b[0m\n",
      "\u001b[1;31mKeyError\u001b[0m: 'Total_Cases'",
      "\nThe above exception was the direct cause of the following exception:\n",
      "\u001b[1;31mKeyError\u001b[0m                                  Traceback (most recent call last)",
      "Cell \u001b[1;32mIn[35], line 2\u001b[0m\n\u001b[0;32m      1\u001b[0m \u001b[38;5;66;03m# 9. Calculate mean, median, and standard deviation of total cases\u001b[39;00m\n\u001b[1;32m----> 2\u001b[0m \u001b[38;5;28mprint\u001b[39m(\u001b[38;5;124m\"\u001b[39m\u001b[38;5;124mMean of Total Cases:\u001b[39m\u001b[38;5;124m\"\u001b[39m, df[\u001b[38;5;124m'\u001b[39m\u001b[38;5;124mTotal_Cases\u001b[39m\u001b[38;5;124m'\u001b[39m]\u001b[38;5;241m.\u001b[39mmean())\n\u001b[0;32m      3\u001b[0m \u001b[38;5;28mprint\u001b[39m(\u001b[38;5;124m\"\u001b[39m\u001b[38;5;124mMedian of Total Cases:\u001b[39m\u001b[38;5;124m\"\u001b[39m, df[\u001b[38;5;124m'\u001b[39m\u001b[38;5;124mTotal_Cases\u001b[39m\u001b[38;5;124m'\u001b[39m]\u001b[38;5;241m.\u001b[39mmedian())\n\u001b[0;32m      4\u001b[0m \u001b[38;5;28mprint\u001b[39m(\u001b[38;5;124m\"\u001b[39m\u001b[38;5;124mStd Dev of Total Cases:\u001b[39m\u001b[38;5;124m\"\u001b[39m, df[\u001b[38;5;124m'\u001b[39m\u001b[38;5;124mTotal_Cases\u001b[39m\u001b[38;5;124m'\u001b[39m]\u001b[38;5;241m.\u001b[39mstd())\n",
      "File \u001b[1;32m~\\anaconda3\\Lib\\site-packages\\pandas\\core\\frame.py:4102\u001b[0m, in \u001b[0;36mDataFrame.__getitem__\u001b[1;34m(self, key)\u001b[0m\n\u001b[0;32m   4100\u001b[0m \u001b[38;5;28;01mif\u001b[39;00m \u001b[38;5;28mself\u001b[39m\u001b[38;5;241m.\u001b[39mcolumns\u001b[38;5;241m.\u001b[39mnlevels \u001b[38;5;241m>\u001b[39m \u001b[38;5;241m1\u001b[39m:\n\u001b[0;32m   4101\u001b[0m     \u001b[38;5;28;01mreturn\u001b[39;00m \u001b[38;5;28mself\u001b[39m\u001b[38;5;241m.\u001b[39m_getitem_multilevel(key)\n\u001b[1;32m-> 4102\u001b[0m indexer \u001b[38;5;241m=\u001b[39m \u001b[38;5;28mself\u001b[39m\u001b[38;5;241m.\u001b[39mcolumns\u001b[38;5;241m.\u001b[39mget_loc(key)\n\u001b[0;32m   4103\u001b[0m \u001b[38;5;28;01mif\u001b[39;00m is_integer(indexer):\n\u001b[0;32m   4104\u001b[0m     indexer \u001b[38;5;241m=\u001b[39m [indexer]\n",
      "File \u001b[1;32m~\\anaconda3\\Lib\\site-packages\\pandas\\core\\indexes\\base.py:3812\u001b[0m, in \u001b[0;36mIndex.get_loc\u001b[1;34m(self, key)\u001b[0m\n\u001b[0;32m   3807\u001b[0m     \u001b[38;5;28;01mif\u001b[39;00m \u001b[38;5;28misinstance\u001b[39m(casted_key, \u001b[38;5;28mslice\u001b[39m) \u001b[38;5;129;01mor\u001b[39;00m (\n\u001b[0;32m   3808\u001b[0m         \u001b[38;5;28misinstance\u001b[39m(casted_key, abc\u001b[38;5;241m.\u001b[39mIterable)\n\u001b[0;32m   3809\u001b[0m         \u001b[38;5;129;01mand\u001b[39;00m \u001b[38;5;28many\u001b[39m(\u001b[38;5;28misinstance\u001b[39m(x, \u001b[38;5;28mslice\u001b[39m) \u001b[38;5;28;01mfor\u001b[39;00m x \u001b[38;5;129;01min\u001b[39;00m casted_key)\n\u001b[0;32m   3810\u001b[0m     ):\n\u001b[0;32m   3811\u001b[0m         \u001b[38;5;28;01mraise\u001b[39;00m InvalidIndexError(key)\n\u001b[1;32m-> 3812\u001b[0m     \u001b[38;5;28;01mraise\u001b[39;00m \u001b[38;5;167;01mKeyError\u001b[39;00m(key) \u001b[38;5;28;01mfrom\u001b[39;00m \u001b[38;5;21;01merr\u001b[39;00m\n\u001b[0;32m   3813\u001b[0m \u001b[38;5;28;01mexcept\u001b[39;00m \u001b[38;5;167;01mTypeError\u001b[39;00m:\n\u001b[0;32m   3814\u001b[0m     \u001b[38;5;66;03m# If we have a listlike key, _check_indexing_error will raise\u001b[39;00m\n\u001b[0;32m   3815\u001b[0m     \u001b[38;5;66;03m#  InvalidIndexError. Otherwise we fall through and re-raise\u001b[39;00m\n\u001b[0;32m   3816\u001b[0m     \u001b[38;5;66;03m#  the TypeError.\u001b[39;00m\n\u001b[0;32m   3817\u001b[0m     \u001b[38;5;28mself\u001b[39m\u001b[38;5;241m.\u001b[39m_check_indexing_error(key)\n",
      "\u001b[1;31mKeyError\u001b[0m: 'Total_Cases'"
     ]
    }
   ],
   "source": [
    "# 9. Calculate mean, median, and standard deviation of total cases\n",
    "print(\"Mean of Total Cases:\", df['Total_Cases'].mean())\n",
    "print(\"Median of Total Cases:\", df['Total_Cases'].median())\n",
    "print(\"Std Dev of Total Cases:\", df['Total_Cases'].std()) \n",
    "df['Total_Cases'] = df['Confirmed']  # Assuming 'Confirmed' represents total cases\n"
   ]
  },
  {
   "cell_type": "code",
   "execution_count": 37,
   "id": "f44e28ca-dd53-43e0-9830-a38bd3db9917",
   "metadata": {},
   "outputs": [
    {
     "name": "stdout",
     "output_type": "stream",
     "text": [
      "Columns in dataset: Index(['Country/Region', 'Confirmed', 'Deaths', 'Recovered', 'Active',\n",
      "       'New_cases', 'New_deaths', 'New_recovered', 'Deaths_/_100_Cases',\n",
      "       'Recovered_/_100_Cases', 'Deaths_/_100_Recovered',\n",
      "       'Confirmed_last_week', '1_week_change', '1_week_%_increase',\n",
      "       'WHO_Region'],\n",
      "      dtype='object')\n"
     ]
    }
   ],
   "source": [
    "print(\"Columns in dataset:\", df.columns)"
   ]
  },
  {
   "cell_type": "code",
   "execution_count": 43,
   "id": "624aefeb-48d5-4c9d-a78e-1018b96b2327",
   "metadata": {},
   "outputs": [],
   "source": [
    "# Ensure all relevant columns are numeric\n",
    "cols_to_convert = ['Confirmed', 'Deaths', 'Recovered', 'Active', 'New_cases', 'New_deaths', 'New_recovered']\n",
    "df[cols_to_convert] = df[cols_to_convert].apply(pd.to_numeric, errors='coerce')\n",
    "\n",
    "# Now calculate Total_Cases\n",
    "df['Total_Cases'] = df[cols_to_convert].sum(axis=1)\n"
   ]
  },
  {
   "cell_type": "code",
   "execution_count": 45,
   "id": "605f41a5-d074-4c00-8d0c-70bf49b6046e",
   "metadata": {},
   "outputs": [
    {
     "name": "stdout",
     "output_type": "stream",
     "text": [
      "Mean of Total Cases: 178508.6332215475\n",
      "Median of Total Cases: 11442.141242937852\n",
      "Std Dev of Total Cases: 775542.478497134\n"
     ]
    }
   ],
   "source": [
    "# 9. Calculate mean, median, and standard deviation of total cases\n",
    "print(\"Mean of Total Cases:\", df['Total_Cases'].mean())\n",
    "print(\"Median of Total Cases:\", df['Total_Cases'].median())\n",
    "print(\"Std Dev of Total Cases:\", df['Total_Cases'].std())"
   ]
  },
  {
   "cell_type": "code",
   "execution_count": 49,
   "id": "82ceaf61-243c-47dd-bf04-41b6c113eafb",
   "metadata": {},
   "outputs": [],
   "source": [
    "# 10. Replace non-numeric values in Deaths column with mean\n",
    "df.loc[:, 'Deaths'] = df['Deaths'].fillna(df['Deaths'].mean())\n"
   ]
  },
  {
   "cell_type": "code",
   "execution_count": 51,
   "id": "8506e62c-1663-46cc-b9d5-2ef01b6207e8",
   "metadata": {},
   "outputs": [
    {
     "data": {
      "text/plain": [
       "<bound method NDFrame.head of            Country/Region  Confirmed       Deaths  Recovered  Active  \\\n",
       "index                                                                  \n",
       "0             Afghanistan      36263  1269.000000      25198    9796   \n",
       "1                 Albania       4880   144.000000       2745    1991   \n",
       "2                 Algeria      27973  1163.000000      18837    7973   \n",
       "3                 Andorra        907    52.000000        803      52   \n",
       "4                  Angola        950    41.000000        242     667   \n",
       "...                   ...        ...          ...        ...     ...   \n",
       "182    West Bank and Gaza      10621    78.000000       3752    6791   \n",
       "183        Western Sahara         10     1.000000          8       1   \n",
       "184                 Yemen       1691   483.000000        833     375   \n",
       "185                Zambia       4552   140.000000       2815    1597   \n",
       "186              Zimbabwe       2704  3516.129032        542    2126   \n",
       "\n",
       "       New_cases  New_deaths  New_recovered  Deaths_/_100_Cases  \\\n",
       "index                                                             \n",
       "0          106.0        10.0             18                3.50   \n",
       "1          117.0         6.0             63                2.95   \n",
       "2          616.0         8.0            749                4.16   \n",
       "3           10.0         0.0              0                5.73   \n",
       "4           18.0         1.0              0                4.32   \n",
       "...          ...         ...            ...                 ...   \n",
       "182        152.0         2.0              0                0.73   \n",
       "183          0.0         0.0              0               10.00   \n",
       "184         10.0         4.0             36               28.56   \n",
       "185         71.0         1.0            465                3.08   \n",
       "186        192.0         2.0             24                1.33   \n",
       "\n",
       "       Recovered_/_100_Cases  Deaths_/_100_Recovered  Confirmed_last_week  \\\n",
       "index                                                                       \n",
       "0                      69.49                    5.04                35526   \n",
       "1                      56.25                    5.25                 4171   \n",
       "2                      67.34                    6.17                23691   \n",
       "3                      88.53                    6.48                  884   \n",
       "4                      25.47                   16.94                  749   \n",
       "...                      ...                     ...                  ...   \n",
       "182                    35.33                    2.08                 8916   \n",
       "183                    80.00                   12.50                   10   \n",
       "184                    49.26                   57.98                 1619   \n",
       "185                    61.84                    4.97                 3326   \n",
       "186                    20.04                    6.64                 1713   \n",
       "\n",
       "       1_week_change  1_week_%_increase             WHO_Region  Total_Cases  \n",
       "index                                                                        \n",
       "0                737               2.07  Eastern Mediterranean      72660.0  \n",
       "1                709              17.00                 Europe       9946.0  \n",
       "2               4282              18.07                 Africa      57319.0  \n",
       "3                 23               2.60                 Europe       1824.0  \n",
       "4                201              26.84                 Africa       1919.0  \n",
       "...              ...                ...                    ...          ...  \n",
       "182             1705              19.12  Eastern Mediterranean      21396.0  \n",
       "183                0               0.00                 Africa         20.0  \n",
       "184               72               4.45  Eastern Mediterranean       3432.0  \n",
       "185             1226              36.86                 Africa       9641.0  \n",
       "186              991              57.85                 Africa       5590.0  \n",
       "\n",
       "[187 rows x 16 columns]>"
      ]
     },
     "execution_count": 51,
     "metadata": {},
     "output_type": "execute_result"
    }
   ],
   "source": [
    "df.head"
   ]
  },
  {
   "cell_type": "code",
   "execution_count": 53,
   "id": "98e7acd9-30f5-4c06-98e7-0af471f81f4d",
   "metadata": {},
   "outputs": [],
   "source": [
    "# 11. Change Deaths datatype\n",
    "df['Deaths'] = df['Deaths'].astype(int)"
   ]
  },
  {
   "cell_type": "code",
   "execution_count": 57,
   "id": "daf44b5f-862d-421a-84a5-d0b1bdfe7764",
   "metadata": {},
   "outputs": [
    {
     "name": "stdout",
     "output_type": "stream",
     "text": [
      "Data type of 'Deaths': int32\n"
     ]
    }
   ],
   "source": [
    "print(\"Data type of 'Deaths':\", df['Deaths'].dtype)"
   ]
  },
  {
   "cell_type": "code",
   "execution_count": 59,
   "id": "6310f5e6-b76e-46df-bf88-c8d075234292",
   "metadata": {},
   "outputs": [
    {
     "name": "stdout",
     "output_type": "stream",
     "text": [
      "Total Deaths: 657516\n",
      "Total Recoveries: 9468087\n"
     ]
    }
   ],
   "source": [
    "# 12. Total Deaths and Recoveries worldwide\n",
    "print(\"Total Deaths:\", df['Deaths'].sum())\n",
    "print(\"Total Recoveries:\", df['Recovered'].sum())"
   ]
  },
  {
   "cell_type": "code",
   "execution_count": 61,
   "id": "93b48371-b829-47db-bacd-84e2949b87e2",
   "metadata": {},
   "outputs": [
    {
     "name": "stdout",
     "output_type": "stream",
     "text": [
      "      Country/Region  Total_Cases\n",
      "index                            \n",
      "23            Brazil    4942376.0\n",
      "79             India    3038838.0\n",
      "138           Russia    1642129.0\n",
      "173               US    8665871.0\n"
     ]
    }
   ],
   "source": [
    "# 13. Countries with more than 1M total cases\n",
    "high_case_countries = df[df['Total_Cases'] > 1_000_000]\n",
    "print(high_case_countries[['Country/Region', 'Total_Cases']])"
   ]
  },
  {
   "cell_type": "code",
   "execution_count": 63,
   "id": "878633fe-1a95-4fd0-8225-3862b4be1657",
   "metadata": {},
   "outputs": [
    {
     "name": "stdout",
     "output_type": "stream",
     "text": [
      "Empty DataFrame\n",
      "Columns: [Country/Region, Recovery_Rate]\n",
      "Index: []\n"
     ]
    }
   ],
   "source": [
    "# 14. Countries with recovery rate above 95%\n",
    "df['Recovery_Rate'] = (df['Recovered'] / df['Total_Cases']) * 100\n",
    "high_recovery = df[df['Recovery_Rate'] > 95]\n",
    "print(high_recovery[['Country/Region', 'Recovery_Rate']])"
   ]
  },
  {
   "cell_type": "code",
   "execution_count": 65,
   "id": "27882c42-01ad-4aba-b7ae-b9300c2457e3",
   "metadata": {},
   "outputs": [],
   "source": [
    "# 15. Drop WHO Region and Confirmed columns\n",
    "df.drop(columns=['WHO_Region', 'Confirmed'], inplace=True, errors='ignore')"
   ]
  },
  {
   "cell_type": "code",
   "execution_count": 67,
   "id": "0fb95dc7-a284-4c24-8feb-6febdd2b0d47",
   "metadata": {},
   "outputs": [
    {
     "name": "stdout",
     "output_type": "stream",
     "text": [
      "      Country/Region  Deaths\n",
      "index                       \n",
      "173               US  148011\n"
     ]
    }
   ],
   "source": [
    "# 16. Country with max deaths\n",
    "max_deaths = df[df['Deaths'] == df['Deaths'].max()]\n",
    "print(max_deaths[['Country/Region', 'Deaths']])"
   ]
  },
  {
   "cell_type": "code",
   "execution_count": 69,
   "id": "a8094b4e-2998-4c89-a7b5-a3636e886422",
   "metadata": {},
   "outputs": [
    {
     "name": "stdout",
     "output_type": "stream",
     "text": [
      "         Country/Region  Deaths\n",
      "index                          \n",
      "173                  US  148011\n",
      "23               Brazil   87618\n",
      "177      United Kingdom   45844\n",
      "111              Mexico   44022\n",
      "85                Italy   35112\n",
      "...                 ...     ...\n",
      "19               Bhutan       0\n",
      "130    Papua New Guinea       0\n",
      "75             Holy See       0\n",
      "30             Cambodia       0\n",
      "114            Mongolia       0\n",
      "\n",
      "[187 rows x 2 columns]\n"
     ]
    }
   ],
   "source": [
    "# 17. Sort countries by deaths descending\n",
    "sorted_deaths = df.sort_values(by='Deaths', ascending=False)\n",
    "print(sorted_deaths[['Country/Region', 'Deaths']])"
   ]
  },
  {
   "cell_type": "code",
   "execution_count": 71,
   "id": "50f4a4da-b19b-425b-934e-46a9289b18b1",
   "metadata": {},
   "outputs": [],
   "source": [
    "# 18. Create Total_cases column\n",
    "df['Total_cases'] = df['Deaths'] + df['Recovered'] + df['Active']"
   ]
  },
  {
   "cell_type": "code",
   "execution_count": 73,
   "id": "0e96adcf-5d63-4c2d-846a-30a54b34513e",
   "metadata": {},
   "outputs": [],
   "source": [
    "# 19. Calculate Death Rate\n",
    "df['Death_Rate'] = (df['Deaths'] / df['Total_cases']) * 100"
   ]
  },
  {
   "cell_type": "code",
   "execution_count": 75,
   "id": "392fa9fa-1644-4be1-a003-7dd4506abeb7",
   "metadata": {},
   "outputs": [
    {
     "name": "stdout",
     "output_type": "stream",
     "text": [
      "                         Country/Region  Total_Cases  Death_Rate\n",
      "index                                                           \n",
      "6                             Argentina     341899.0    1.827185\n",
      "10                           Azerbaijan      61852.0    1.389345\n",
      "12                              Bahrain      79737.0    0.357125\n",
      "13                           Bangladesh     457060.0    1.310642\n",
      "15                              Belarus     134692.0    0.799988\n",
      "18                                Benin       3540.0    1.977401\n",
      "28                              Burundi        795.0    0.264550\n",
      "29                           Cabo Verde       4780.0    0.945017\n",
      "39                  Congo (Brazzaville)       6638.0    1.687500\n",
      "41                           Costa Rica      32393.0    0.725964\n",
      "50                   Dominican Republic     131181.0    1.688073\n",
      "57                             Eswatini       4782.0    1.468048\n",
      "58                             Ethiopia      29848.0    1.567333\n",
      "64                              Georgia       2282.0    1.407212\n",
      "69                              Grenada         46.0    0.000000\n",
      "84                               Israel     130111.0    0.740799\n",
      "89                           Kazakhstan     172655.0    0.691097\n",
      "92                               Kuwait     130053.0    0.680346\n",
      "96                              Lebanon       7913.0    1.313756\n",
      "102                          Luxembourg      12869.0    1.771872\n",
      "103                          Madagascar      20462.0    0.939112\n",
      "105                            Malaysia      17816.0    1.392633\n",
      "114                            Mongolia        583.0    0.000000\n",
      "115                          Montenegro       5952.0    1.555479\n",
      "116                             Morocco      42501.0    1.512903\n",
      "118                             Namibia       3780.0    0.434075\n",
      "119                               Nepal      38272.0    0.255973\n",
      "127                                Oman     156907.0    0.510005\n",
      "131                            Paraguay       9313.0    0.945471\n",
      "136                               Qatar     219790.0    0.150552\n",
      "138                              Russia    1642129.0    1.632708\n",
      "141                         Saint Lucia         48.0    0.000000\n",
      "142    Saint Vincent and the Grenadines        104.0    0.000000\n",
      "144               Sao Tome and Principe       1770.0    1.618497\n",
      "145                        Saudi Arabia     542501.0    1.026274\n",
      "150                           Singapore     102316.0    0.053110\n",
      "154                        South Africa     922300.0    1.561668\n",
      "165                          Tajikistan      14572.0    0.829302\n",
      "167                            Thailand       6602.0    1.759175\n",
      "179                          Uzbekistan      43670.0    0.570513\n",
      "182                  West Bank and Gaza      21396.0    0.734394\n"
     ]
    }
   ],
   "source": [
    "# 20. Identify countries with increasing cases but low death rates\n",
    "increasing_cases = df[(df['Total_Cases'].diff() > 0) & (df['Death_Rate'] < 2)]\n",
    "print(increasing_cases[['Country/Region', 'Total_Cases', 'Death_Rate']])"
   ]
  },
  {
   "cell_type": "code",
   "execution_count": 77,
   "id": "7dd087ea-cf16-4b51-a2bb-9f3be7392f51",
   "metadata": {},
   "outputs": [
    {
     "name": "stdout",
     "output_type": "stream",
     "text": [
      "      Country/Region  Death_Rate\n",
      "index                           \n",
      "0        Afghanistan    3.499435\n",
      "1            Albania    2.950820\n",
      "2            Algeria    4.157581\n",
      "3            Andorra    5.733186\n",
      "4             Angola    4.315789\n"
     ]
    }
   ],
   "source": [
    "# 21. Print head of Country/Region and Death_Rate\n",
    "print(df[['Country/Region', 'Death_Rate']].head())"
   ]
  },
  {
   "cell_type": "code",
   "execution_count": 79,
   "id": "6300f82c-deff-4fb0-bda9-0a1589f4f63f",
   "metadata": {},
   "outputs": [
    {
     "data": {
      "image/png": "[encoded data removed]",
      "text/plain": [
       "<Figure size 640x480 with 1 Axes>"
      ]
     },
     "metadata": {},
     "output_type": "display_data"
    }
   ],
   "source": [
    "# 22. Scatter plot comparing total cases and total deaths\n",
    "plt.scatter(df['Total_Cases'], df['Deaths'])\n",
    "plt.xlabel('Total Cases')\n",
    "plt.ylabel('Total Deaths')\n",
    "plt.title('Total Cases vs Total Deaths')\n",
    "plt.show()"
   ]
  },
  {
   "cell_type": "code",
   "execution_count": 81,
   "id": "893ed6e2-e113-4a27-93d6-6aeaa20ecd59",
   "metadata": {},
   "outputs": [],
   "source": [
    "# 23. Save dataset as CSV\n",
    "df.to_csv('cleaned_dataset.csv', index=False)"
   ]
  },
  {
   "cell_type": "code",
   "execution_count": null,
   "id": "b97d3275-8e86-4bef-99a5-614bd285189a",
   "metadata": {},
   "outputs": [],
   "source": []
  }
 ],
 "metadata": {
  "kernelspec": {
   "display_name": "Python 3 (ipykernel)",
   "language": "python",
   "name": "python3"
  },
  "language_info": {
   "codemirror_mode": {
    "name": "ipython",
    "version": 3
   },
   "file_extension": ".py",
   "mimetype": "text/x-python",
   "name": "python",
   "nbconvert_exporter": "python",
   "pygments_lexer": "ipython3",
   "version": "3.12.4"
  }
 },
 "nbformat": 4,
 "nbformat_minor": 5
}
