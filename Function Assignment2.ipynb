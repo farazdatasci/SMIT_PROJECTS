{
 "cells": [
  {
   "cell_type": "code",
   "execution_count": 1,
   "id": "0ee224e1-38c1-4156-9fe1-89cc77c2f184",
   "metadata": {},
   "outputs": [
    {
     "name": "stdout",
     "output_type": "stream",
     "text": [
      "Task 1: 2002,2009,2016,2023,2037,2044,2051,2058,2072,2079,2086,2093,2107,2114,2121,2128,2142,2149,2156,2163,2177,2184,2191,2198,2212,2219,2226,2233,2247,2254,2261,2268,2282,2289,2296,2303,2317,2324,2331,2338,2352,2359,2366,2373,2387,2394,2401,2408,2422,2429,2436,2443,2457,2464,2471,2478,2492,2499,2506,2513,2527,2534,2541,2548,2562,2569,2576,2583,2597,2604,2611,2618,2632,2639,2646,2653,2667,2674,2681,2688,2702,2709,2716,2723,2737,2744,2751,2758,2772,2779,2786,2793,2807,2814,2821,2828,2842,2849,2856,2863,2877,2884,2891,2898,2912,2919,2926,2933,2947,2954,2961,2968,2982,2989,2996,3003,3017,3024,3031,3038,3052,3059,3066,3073,3087,3094,3101,3108,3122,3129,3136,3143,3157,3164,3171,3178,3192,3199\n"
     ]
    }
   ],
   "source": [
    "def find_numbers_divisible_by_7_not_5():\n",
    "    return ','.join(str(x) for x in range(2000, 3201) if x % 7 == 0 and x % 5 != 0)\n",
    "\n",
    "if __name__ == \"__main__\":\n",
    "    print(\"Task 1:\", find_numbers_divisible_by_7_not_5())"
   ]
  },
  {
   "cell_type": "code",
   "execution_count": 5,
   "id": "93b618c0-87e0-4cab-a2d4-aa41b0e03630",
   "metadata": {},
   "outputs": [
    {
     "name": "stdout",
     "output_type": "stream",
     "text": [
      "Task 2: 5,4,4\n"
     ]
    }
   ],
   "source": [
    "def calculate_p(c_values):\n",
    "    import math\n",
    "    A, B = 50, 30\n",
    "    result = [str(int(math.sqrt((2 * A * B) / int(c)))) for c in c_values.split(',')]\n",
    "    return ','.join(result)\n",
    "\n",
    "if __name__ == \"__main__\":\n",
    "    c_values = \"120,140,180\"  # Example input for Task 2\n",
    "    print(\"Task 2:\", calculate_p(c_values))"
   ]
  },
  {
   "cell_type": "code",
   "execution_count": 7,
   "id": "cfaafbd4-ebd0-4f73-955a-036b6a9533b3",
   "metadata": {},
   "outputs": [
    {
     "name": "stdout",
     "output_type": "stream",
     "text": [
      "Task 3: bag,hello,without,world\n"
     ]
    }
   ],
   "source": [
    "def sort_words_alphabetically(words):\n",
    "    return ','.join(sorted(words.split(',')))\n",
    "\n",
    "if __name__ == \"__main__\":\n",
    "    words = \"without,hello,bag,world\"  # Example input for Task 3\n",
    "    print(\"Task 3:\", sort_words_alphabetically(words))"
   ]
  },
  {
   "cell_type": "code",
   "execution_count": 9,
   "id": "f702cf8b-7d9e-41d1-a9be-eb453bcbd35e",
   "metadata": {},
   "outputs": [
    {
     "name": "stdout",
     "output_type": "stream",
     "text": [
      "Task 4: HI\n",
      "PRACTICE MAKES MAN PERFECT\n"
     ]
    }
   ],
   "source": [
    "def capitalize_sentences(lines):\n",
    "    return '\\n'.join(line.upper() for line in lines)\n",
    "\n",
    "if __name__ == \"__main__\":\n",
    "    lines = [\"Hi\", \"Practice makes man perfect\"]  # Example input for Task 4\n",
    "    print(\"Task 4:\", capitalize_sentences(lines))"
   ]
  },
  {
   "cell_type": "code",
   "execution_count": 13,
   "id": "9e844fe5-db58-4126-a628-fa858a084a3c",
   "metadata": {},
   "outputs": [
    {
     "name": "stdout",
     "output_type": "stream",
     "text": [
      "Task 5: a appeared 3 times\n",
      "e appeared 5 times\n",
      "i appeared 1 times\n",
      "o appeared 2 times\n",
      "u appeared 0 times\n"
     ]
    }
   ],
   "source": [
    "def count_vowels(sentence):\n",
    "    vowels = \"aeiou\"\n",
    "    counts = {vowel: sentence.lower().count(vowel) for vowel in vowels}\n",
    "    return '\\n'.join(f\"{vowel} appeared {count} times\" for vowel, count in counts.items())\n",
    "\n",
    "if __name__ == \"__main__\":\n",
    "    sentence = \"Hello world Practice makes man perfect\"  # Example input for Task 5\n",
    "    print(\"Task 5:\", count_vowels(sentence))"
   ]
  },
  {
   "cell_type": "code",
   "execution_count": 15,
   "id": "c7f3e8d0-b7c5-474e-b21d-b4c308cc60dd",
   "metadata": {},
   "outputs": [
    {
     "name": "stdout",
     "output_type": "stream",
     "text": [
      "Task 6: ['2000', '2002', '2004', '2006', '2008', '2020', '2022', '2024', '2026', '2028', '2040', '2042', '2044', '2046', '2048', '2060', '2062', '2064', '2066', '2068', '2080', '2082', '2084', '2086', '2088', '2200', '2202', '2204', '2206', '2208', '2220', '2222', '2224', '2226', '2228', '2240', '2242', '2244', '2246', '2248', '2260', '2262', '2264', '2266', '2268', '2280', '2282', '2284', '2286', '2288', '2400', '2402', '2404', '2406', '2408', '2420', '2422', '2424', '2426', '2428', '2440', '2442', '2444', '2446', '2448', '2460', '2462', '2464', '2466', '2468', '2480', '2482', '2484', '2486', '2488', '2600', '2602', '2604', '2606', '2608', '2620', '2622', '2624', '2626', '2628', '2640', '2642', '2644', '2646', '2648', '2660', '2662', '2664', '2666', '2668', '2680', '2682', '2684', '2686', '2688', '2800', '2802', '2804', '2806', '2808', '2820', '2822', '2824', '2826', '2828', '2840', '2842', '2844', '2846', '2848', '2860', '2862', '2864', '2866', '2868', '2880', '2882', '2884', '2886', '2888']\n"
     ]
    }
   ],
   "source": [
    "def find_even_digit_numbers():\n",
    "    return [str(x) for x in range(1000, 3001) if all(int(digit) % 2 == 0 for digit in str(x))]\n",
    "\n",
    "if __name__ == \"__main__\":\n",
    "    print(\"Task 6:\", find_even_digit_numbers())"
   ]
  },
  {
   "cell_type": "code",
   "execution_count": 17,
   "id": "a3b746ea-e542-4a81-be08-07549c4121f3",
   "metadata": {},
   "outputs": [
    {
     "name": "stdout",
     "output_type": "stream",
     "text": [
      "Task 7: 1010\n"
     ]
    }
   ],
   "source": [
    "def binary_numbers_divisible_by_5(binary_numbers):\n",
    "    return ','.join(b for b in binary_numbers.split(',') if int(b, 2) % 5 == 0)\n",
    "\n",
    "if __name__ == \"__main__\":\n",
    "    binary_numbers = \"0100,0011,1010,1001\"  # Example input for Task 7\n",
    "    print(\"Task 7:\", binary_numbers_divisible_by_5(binary_numbers))"
   ]
  },
  {
   "cell_type": "code",
   "execution_count": 19,
   "id": "bdf096dc-5135-4460-a43f-1ab6a16fe3a0",
   "metadata": {},
   "outputs": [
    {
     "name": "stdout",
     "output_type": "stream",
     "text": [
      "Task 8: LETTERS 16\n",
      "DIGITS 5\n"
     ]
    }
   ],
   "source": [
    "def count_letters_and_digits(sentence):\n",
    "    letters = sum(c.isalpha() for c in sentence)\n",
    "    digits = sum(c.isdigit() for c in sentence)\n",
    "    return f\"LETTERS {letters}\\nDIGITS {digits}\"\n",
    "\n",
    "if __name__ == \"__main__\":\n",
    "    sentence = \"My name is Sarfaraz! 12345\"  # Example input for Task 8\n",
    "    print(\"Task 8:\", count_letters_and_digits(sentence))"
   ]
  },
  {
   "cell_type": "code",
   "execution_count": 21,
   "id": "50edc3a2-757f-418a-987d-101245755fd9",
   "metadata": {},
   "outputs": [
    {
     "name": "stdout",
     "output_type": "stream",
     "text": [
      "Task 9: [1, 2, 3, 4, 5]\n"
     ]
    }
   ],
   "source": [
    "def unique_elements(lst):\n",
    "    return list(set(lst))\n",
    "\n",
    "if __name__ == \"__main__\":\n",
    "    lst = [1, 2, 2, 3, 4, 4, 5]  # Example input for Task 9\n",
    "    print(\"Task 9:\", unique_elements(lst))"
   ]
  },
  {
   "cell_type": "code",
   "execution_count": null,
   "id": "69fc3769-754f-44c5-a606-c0b43fa14e0a",
   "metadata": {},
   "outputs": [],
   "source": []
  }
 ],
 "metadata": {
  "kernelspec": {
   "display_name": "Python 3 (ipykernel)",
   "language": "python",
   "name": "python3"
  },
  "language_info": {
   "codemirror_mode": {
    "name": "ipython",
    "version": 3
   },
   "file_extension": ".py",
   "mimetype": "text/x-python",
   "name": "python",
   "nbconvert_exporter": "python",
   "pygments_lexer": "ipython3",
   "version": "3.12.4"
  }
 },
 "nbformat": 4,
 "nbformat_minor": 5
}
