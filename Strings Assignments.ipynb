{
 "cells": [
  {
   "cell_type": "code",
   "execution_count": 15,
   "id": "1ed13d74-ca4d-4234-81a2-212ad44afdfa",
   "metadata": {},
   "outputs": [
    {
     "name": "stdin",
     "output_type": "stream",
     "text": [
      "Enter a string:  MoonaLiza Steeve Jobes\n"
     ]
    },
    {
     "name": "stdout",
     "output_type": "stream",
     "text": [
      "The number of vowels in the string is: 10\n"
     ]
    }
   ],
   "source": [
    "# Task 1: Count the number of vowels in the input string\n",
    "\n",
    "def count_vowels():\n",
    "    user_string = input(\"Enter a string: \")\n",
    "    vowels = \"aeiouAEIOU\"\n",
    "    vowel_count = 0\n",
    "\n",
    "    for char in user_string:\n",
    "        if char in vowels:\n",
    "            vowel_count += 1\n",
    "\n",
    "    print(f\"The number of vowels in the string is: {vowel_count}\")\n",
    "\n",
    "count_vowels()"
   ]
  },
  {
   "cell_type": "code",
   "execution_count": 17,
   "id": "d3eb789a-29bc-4ff0-bb2b-03680c7322d3",
   "metadata": {},
   "outputs": [
    {
     "name": "stdin",
     "output_type": "stream",
     "text": [
      "Enter a string:  I'm 1 good boy.\n"
     ]
    },
    {
     "name": "stdout",
     "output_type": "stream",
     "text": [
      "Uppercase letters: 1\n",
      "Lowercase letters: 8\n",
      "Digits: 1\n",
      "Whitespaces: 3\n"
     ]
    }
   ],
   "source": [
    "# Task 2: Count uppercase, lowercase, digits, and whitespaces in a string\n",
    "\n",
    "def analyze_string():\n",
    "    user_string = input(\"Enter a string: \")\n",
    "    upper_count = sum(1 for char in user_string if char.isupper())\n",
    "    lower_count = sum(1 for char in user_string if char.islower())\n",
    "    digit_count = sum(1 for char in user_string if char.isdigit())\n",
    "    space_count = sum(1 for char in user_string if char.isspace())\n",
    "\n",
    "    print(f\"Uppercase letters: {upper_count}\")\n",
    "    print(f\"Lowercase letters: {lower_count}\")\n",
    "    print(f\"Digits: {digit_count}\")\n",
    "    print(f\"Whitespaces: {space_count}\")\n",
    "\n",
    "analyze_string()"
   ]
  },
  {
   "cell_type": "code",
   "execution_count": 19,
   "id": "23b74eda-1362-40ba-ab86-f865f7858112",
   "metadata": {},
   "outputs": [
    {
     "name": "stdin",
     "output_type": "stream",
     "text": [
      "Enter a string:  I am a good boy.\n"
     ]
    },
    {
     "name": "stdout",
     "output_type": "stream",
     "text": [
      "The modified string is: . am a good boyI\n"
     ]
    }
   ],
   "source": [
    " # Task 3: Swap the first and last characters of a string\n",
    "\n",
    "def swap_first_last():\n",
    "    user_string = input(\"Enter a string: \")\n",
    "    if len(user_string) < 2:\n",
    "        print(\"String is too short to swap!\")\n",
    "    else:\n",
    "        new_string = user_string[-1] + user_string[1:-1] + user_string[0]\n",
    "        print(f\"The modified string is: {new_string}\")\n",
    "\n",
    "swap_first_last()"
   ]
  },
  {
   "cell_type": "code",
   "execution_count": 21,
   "id": "441c2bf2-efcf-4c96-86c3-5cf235420f15",
   "metadata": {},
   "outputs": [
    {
     "name": "stdin",
     "output_type": "stream",
     "text": [
      "Enter a string:  Hello\n"
     ]
    },
    {
     "name": "stdout",
     "output_type": "stream",
     "text": [
      "The reversed string is: olleH\n"
     ]
    }
   ],
   "source": [
    "# Task 4: Reverse the input string\n",
    "\n",
    "def reverse_string():\n",
    "    user_string = input(\"Enter a string: \")\n",
    "    reversed_string = user_string[::-1]\n",
    "    print(f\"The reversed string is: {reversed_string}\")\n",
    "\n",
    "reverse_string()"
   ]
  },
  {
   "cell_type": "code",
   "execution_count": 25,
   "id": "c1e84cbb-9594-41aa-be43-bd8f54ff4888",
   "metadata": {},
   "outputs": [
    {
     "name": "stdin",
     "output_type": "stream",
     "text": [
      "Enter a string:  great\n"
     ]
    },
    {
     "name": "stdout",
     "output_type": "stream",
     "text": [
      "The shifted string is: reatg\n"
     ]
    }
   ],
   "source": [
    "# Task 5: Shift all characters one position to the left\n",
    "\n",
    "def shift_left():\n",
    "    user_string = input(\"Enter a string: \")\n",
    "    if len(user_string) == 0:\n",
    "        print(\"Empty string cannot be shifted!\")\n",
    "    else:\n",
    "        shifted_string = user_string[1:] + user_string[0]\n",
    "        print(f\"The shifted string is: {shifted_string}\")\n",
    "\n",
    "shift_left()"
   ]
  },
  {
   "cell_type": "code",
   "execution_count": 27,
   "id": "f40cfb5a-6892-4b2b-9fb8-bcefd5781c0f",
   "metadata": {},
   "outputs": [
    {
     "name": "stdin",
     "output_type": "stream",
     "text": [
      "Enter your full name (first, middle, last):  Abdul Qadir Mansoor\n"
     ]
    },
    {
     "name": "stdout",
     "output_type": "stream",
     "text": [
      "Your initials are: A. Q. M.\n"
     ]
    }
   ],
   "source": [
    "# Task 6: Display initials of the name\n",
    "\n",
    "def display_initials():\n",
    "    name = input(\"Enter your full name (first, middle, last): \")\n",
    "    initials = \"\"\n",
    "    for char in name:\n",
    "        if char.isupper():  # Check for uppercase letters in the name\n",
    "            initials += char + \". \"\n",
    "    print(f\"Your initials are: {initials.strip()}\")\n",
    "\n",
    "display_initials()"
   ]
  },
  {
   "cell_type": "code",
   "execution_count": 37,
   "id": "e8eb213e-ffe2-4099-891b-b0e530c2b88b",
   "metadata": {},
   "outputs": [
    {
     "name": "stdin",
     "output_type": "stream",
     "text": [
      "Enter a string:  ABCD\n"
     ]
    },
    {
     "name": "stdout",
     "output_type": "stream",
     "text": [
      "The string is not a palindrome.\n"
     ]
    }
   ],
   "source": [
    "# Task 7: Determine if a string is a palindrome\n",
    "import re\n",
    "\n",
    "def is_palindrome():\n",
    "    user_string = input(\"Enter a string: \")\n",
    "    # Remove non-alphanumeric characters and normalize case\n",
    "    cleaned_string = re.sub(r'[^a-zA-Z0-9]', '', user_string).lower()\n",
    "    reversed_string = cleaned_string[::-1]\n",
    "\n",
    "    if cleaned_string == reversed_string:\n",
    "        print(\"The string is a palindrome!\")\n",
    "    else:\n",
    "        print(\"The string is not a palindrome.\")\n",
    "\n",
    "is_palindrome()"
   ]
  },
  {
   "cell_type": "code",
   "execution_count": 39,
   "id": "b914adec-b791-493d-b5d7-61f5e9a027fd",
   "metadata": {},
   "outputs": [
    {
     "name": "stdout",
     "output_type": "stream",
     "text": [
      "Rotations:\n",
      "SHIFT\n",
      "HIFTS\n",
      "IFTSH\n",
      "FTSHI\n",
      "TSHIF\n"
     ]
    }
   ],
   "source": [
    "# Task 8: Display rotated versions of the word \"SHIFT\"\n",
    "\n",
    "def rotate_word():\n",
    "    word = \"SHIFT\"\n",
    "    print(\"Rotations:\")\n",
    "    for i in range(len(word)):\n",
    "        print(word[i:] + word[:i])  # Rotate the string\n",
    "\n",
    "rotate_word()"
   ]
  },
  {
   "cell_type": "code",
   "execution_count": 45,
   "id": "6d0b6d1e-2992-4579-b005-473a7ecb7fba",
   "metadata": {},
   "outputs": [
    {
     "name": "stdin",
     "output_type": "stream",
     "text": [
      "Enter a password:  Sarfara1\n"
     ]
    },
    {
     "name": "stdout",
     "output_type": "stream",
     "text": [
      "Password is valid!\n"
     ]
    }
   ],
   "source": [
    "# Task 9: Validate if a password meets the criteria\n",
    "\n",
    "def validate_password():\n",
    "    password = input(\"Enter a password: \")\n",
    "\n",
    "    if len(password) < 8:\n",
    "        print(\"Password must be at least 8 characters long.\")\n",
    "    elif not any(char.isupper() for char in password):\n",
    "        print(\"Password must contain at least one uppercase letter.\")\n",
    "    elif not any(char.islower() for char in password):\n",
    "        print(\"Password must contain at least one lowercase letter.\")\n",
    "    elif not any(char.isdigit() for char in password):\n",
    "        print(\"Password must contain at least one numeric digit.\")\n",
    "    else:\n",
    "        print(\"Password is valid!\")\n",
    "\n",
    "validate_password()"
   ]
  },
  {
   "cell_type": "code",
   "execution_count": null,
   "id": "c4d9c999-1918-427d-894f-fd815ce1c91c",
   "metadata": {},
   "outputs": [],
   "source": []
  }
 ],
 "metadata": {
  "kernelspec": {
   "display_name": "Python 3 (ipykernel)",
   "language": "python",
   "name": "python3"
  },
  "language_info": {
   "codemirror_mode": {
    "name": "ipython",
    "version": 3
   },
   "file_extension": ".py",
   "mimetype": "text/x-python",
   "name": "python",
   "nbconvert_exporter": "python",
   "pygments_lexer": "ipython3",
   "version": "3.12.4"
  }
 },
 "nbformat": 4,
 "nbformat_minor": 5
}
