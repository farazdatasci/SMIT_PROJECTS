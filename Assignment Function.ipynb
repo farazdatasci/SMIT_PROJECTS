{
 "cells": [
  {
   "cell_type": "code",
   "execution_count": 21,
   "id": "1943be5b-44ab-498f-b9a8-572f2984ff9c",
   "metadata": {},
   "outputs": [
    {
     "name": "stdin",
     "output_type": "stream",
     "text": [
      "Enter the first number:  5\n",
      "Enter the second number:  1\n",
      "Enter the third number:  2\n"
     ]
    },
    {
     "name": "stdout",
     "output_type": "stream",
     "text": [
      "The maximum value is 5, and it is the 1st input.\n"
     ]
    }
   ],
   "source": [
    "# Function 1: Find the maximum of three numbers and identify its position\n",
    "\n",
    "a = int(input(\"Enter the first number: \"))\n",
    "b = int(input(\"Enter the second number: \"))\n",
    "c = int(input(\"Enter the third number: \"))\n",
    "\n",
    "max_value, position = find_max_of_three(a, b, c)\n",
    "print(f\"The maximum value is {max_value}, and it is the {position}.\")\n"
   ]
  },
  {
   "cell_type": "code",
   "execution_count": 25,
   "id": "89618c91-858e-4256-b9e2-005015440a61",
   "metadata": {},
   "outputs": [],
   "source": [
    "# Function 2: Sum all numbers in a list\n",
    "def sum_of_list(numbers):\n",
    "    return sum(numbers)"
   ]
  },
  {
   "cell_type": "code",
   "execution_count": 45,
   "id": "46ce3d86-54be-49b4-b61a-d546cafbe9ff",
   "metadata": {},
   "outputs": [
    {
     "name": "stdout",
     "output_type": "stream",
     "text": [
      "Function Results:\n",
      "----------------------------------------\n"
     ]
    },
    {
     "name": "stdin",
     "output_type": "stream",
     "text": [
      "Enter numbers separated by spaces for summation:  1\n"
     ]
    },
    {
     "name": "stdout",
     "output_type": "stream",
     "text": [
      "Sum of [1]: 1\n"
     ]
    }
   ],
   "source": [
    "# Take list of No. sperate by space from user and display the Sum of all given numbers in a list.\n",
    "if __name__ == \"__main__\":\n",
    "    print(\"Function Results:\")\n",
    "    print(\"-\" * 40)\n",
    "# Function 2\n",
    "    numbers = list(map(int, input(\"Enter numbers separated by spaces for summation: \").split()))\n",
    "    print(\"Sum of {}:\".format(numbers), sum_of_list(numbers))"
   ]
  },
  {
   "cell_type": "code",
   "execution_count": 47,
   "id": "770322da-9367-4ee4-9eb8-6fdcb392df6e",
   "metadata": {},
   "outputs": [],
   "source": [
    "# Function 3: Multiply all numbers in a list\n",
    "def multiply_list(numbers):\n",
    "    result = 1\n",
    "    for num in numbers:\n",
    "        result *= num\n",
    "    return result"
   ]
  },
  {
   "cell_type": "code",
   "execution_count": 59,
   "id": "0fdd7c2b-f512-49f6-aa5e-fc1a2dddeefc",
   "metadata": {},
   "outputs": [
    {
     "name": "stdin",
     "output_type": "stream",
     "text": [
      "Enter numbers separated by spaces for multiplication:  2 2 2 2\n"
     ]
    },
    {
     "name": "stdout",
     "output_type": "stream",
     "text": [
      "Product of [2, 2, 2, 2]: 16\n"
     ]
    }
   ],
   "source": [
    "# Function 3 Take input and display of multiply all numbers in a list\n",
    "if __name__ == \"__main__\":\n",
    "    numbers = list(map(int, input(\"Enter numbers separated by spaces for multiplication: \").split()))\n",
    "    print(\"Product of {}:\".format(numbers), multiply_list(numbers))\n"
   ]
  },
  {
   "cell_type": "code",
   "execution_count": 61,
   "id": "14b0e439-c908-40b1-8cff-ea47e6444d50",
   "metadata": {},
   "outputs": [
    {
     "name": "stdin",
     "output_type": "stream",
     "text": [
      "Enter a string to reverse:  876zaraf\n"
     ]
    },
    {
     "name": "stdout",
     "output_type": "stream",
     "text": [
      "Reverse of '876zaraf': faraz678\n"
     ]
    }
   ],
   "source": [
    "# Function 4: Reverse a string\n",
    "def reverse_string(string):\n",
    "    return string[::-1]\n",
    "\n",
    "# Function 4 Take input and display the reversed string\n",
    "if __name__ == \"__main__\":\n",
    "    string = input(\"Enter a string to reverse: \")\n",
    "    print(\"Reverse of '{}':\".format(string), reverse_string(string))\n"
   ]
  },
  {
   "cell_type": "code",
   "execution_count": 67,
   "id": "8d15966e-a71b-4920-badf-dd94bd533ac1",
   "metadata": {},
   "outputs": [
    {
     "name": "stdin",
     "output_type": "stream",
     "text": [
      "Enter a number to calculate factorial:  3\n"
     ]
    },
    {
     "name": "stdout",
     "output_type": "stream",
     "text": [
      "Factorial of 3: 6\n"
     ]
    }
   ],
   "source": [
    "# Function 5: Calculate the factorial of a number\n",
    "def factorial(n):\n",
    "    if n == 0 or n == 1:\n",
    "        return 1\n",
    "    return n * factorial(n - 1)\n",
    "\n",
    "# Function 5 Take input and display the factorial\n",
    "if __name__ == \"__main__\":\n",
    "    n = int(input(\"Enter a number to calculate factorial: \"))\n",
    "    print(\"Factorial of {}:\".format(n), factorial(n))"
   ]
  },
  {
   "cell_type": "code",
   "execution_count": 75,
   "id": "e2e99f63-70cb-4f8a-b5e9-f44a4bb59eb8",
   "metadata": {},
   "outputs": [
    {
     "name": "stdin",
     "output_type": "stream",
     "text": [
      "Enter a number to check if it's in range:  4\n",
      "Enter the range (start and end) separated by space:  1 3\n"
     ]
    },
    {
     "name": "stdout",
     "output_type": "stream",
     "text": [
      "Is 4 in range (1, 3): False\n"
     ]
    }
   ],
   "source": [
    "# Function 6: Check if a number falls within a given range\n",
    "def is_in_range(num, start, end):\n",
    "    return start <= num <= end\n",
    "\n",
    "# Function 6 Take input and display if the number is in range\n",
    "if __name__ == \"__main__\":\n",
    "    num = int(input(\"Enter a number to check if it's in range: \"))\n",
    "    start, end = map(int, input(\"Enter the range (start and end) separated by space: \").split())\n",
    "    print(\"Is {} in range ({}, {}):\".format(num, start, end), is_in_range(num, start, end))"
   ]
  },
  {
   "cell_type": "code",
   "execution_count": 77,
   "id": "32bcdacc-8c0c-466f-91cc-1dcb0b8b200a",
   "metadata": {},
   "outputs": [
    {
     "name": "stdin",
     "output_type": "stream",
     "text": [
      "Enter a string to count upper and lower case letters:  Abdul Fahim Mansoor\n"
     ]
    },
    {
     "name": "stdout",
     "output_type": "stream",
     "text": [
      "Upper and lower case in 'Abdul Fahim Mansoor': Upper = 3, Lower = 14\n"
     ]
    }
   ],
   "source": [
    "# Function 7: Count uppercase and lowercase letters in a string\n",
    "def count_case(string):\n",
    "    upper_count = sum(1 for char in string if char.isupper())\n",
    "    lower_count = sum(1 for char in string if char.islower())\n",
    "    return upper_count, lower_count\n",
    "\n",
    "# Function 7 Take input and display counts of uppercase and lowercase letters\n",
    "if __name__ == \"__main__\":\n",
    "    string = input(\"Enter a string to count upper and lower case letters: \")\n",
    "    upper, lower = count_case(string)\n",
    "    print(\"Upper and lower case in '{}': Upper = {}, Lower = {}\".format(string, upper, lower))"
   ]
  },
  {
   "cell_type": "code",
   "execution_count": 83,
   "id": "743fcda8-b8b2-4522-a4d2-22903ca79359",
   "metadata": {},
   "outputs": [
    {
     "name": "stdout",
     "output_type": "stream",
     "text": [
      "Sample List: [1, 2, 3, 3, 3, 3, 4, 5]\n",
      "Unique List: [1, 2, 3, 4, 5]\n"
     ]
    },
    {
     "name": "stdin",
     "output_type": "stream",
     "text": [
      "Enter numbers separated by spaces for unique elements:  5 1 2 1 3 4 4 2\n"
     ]
    },
    {
     "name": "stdout",
     "output_type": "stream",
     "text": [
      "Unique elements in [5, 1, 2, 1, 3, 4, 4, 2]: [1, 2, 3, 4, 5]\n"
     ]
    }
   ],
   "source": [
    "# Function 8: Return distinct elements of a list\n",
    "def unique_elements(lst):\n",
    "    \"\"\"Returns a list with distinct elements from the input list.\"\"\"\n",
    "    return list(set(lst))\n",
    "\n",
    "# Function 8 Take input and display distinct elements\n",
    "if __name__ == \"__main__\":\n",
    "    # Sample input\n",
    "    sample_list = [1, 2, 3, 3, 3, 3, 4, 5]\n",
    "    print(\"Sample List:\", sample_list)\n",
    "    unique_list = unique_elements(sample_list)\n",
    "    print(\"Unique List:\", unique_list)\n",
    "\n",
    "    # User input\n",
    "    lst = list(map(int, input(\"Enter numbers separated by spaces for unique elements: \").split()))\n",
    "    print(\"Unique elements in {}:\".format(lst), unique_elements(lst))\n"
   ]
  },
  {
   "cell_type": "code",
   "execution_count": 87,
   "id": "77ac8c1a-5626-4a27-8720-288522aff9cd",
   "metadata": {},
   "outputs": [
    {
     "name": "stdout",
     "output_type": "stream",
     "text": [
      "Is 7 prime?: True\n"
     ]
    },
    {
     "name": "stdin",
     "output_type": "stream",
     "text": [
      "Enter a number to check if it's prime:  4\n"
     ]
    },
    {
     "name": "stdout",
     "output_type": "stream",
     "text": [
      "Is 4 prime?: False\n"
     ]
    }
   ],
   "source": [
    "# Function 9: Check if a number is prime\n",
    "def is_prime(num):\n",
    "    \"\"\"Checks if a number is prime.\"\"\"\n",
    "    if num <= 1:\n",
    "        return False\n",
    "    for i in range(2, int(num ** 0.5) + 1):  # Loop from 2 to √num\n",
    "        if num % i == 0:\n",
    "            return False\n",
    "    return True\n",
    "\n",
    "# Function 9 Take input and display if the number is prime\n",
    "if __name__ == \"__main__\":\n",
    "    # Predefined test case\n",
    "    test_number = 7\n",
    "    print(f\"Is {test_number} prime?:\", is_prime(test_number))\n",
    "\n",
    "    # User input\n",
    "    num = int(input(\"Enter a number to check if it's prime: \"))\n",
    "    print(f\"Is {num} prime?:\", is_prime(num))"
   ]
  },
  {
   "cell_type": "code",
   "execution_count": 91,
   "id": "cc91a330-8201-4ddc-a2fd-f26b82c8f32e",
   "metadata": {},
   "outputs": [
    {
     "name": "stdin",
     "output_type": "stream",
     "text": [
      "Enter numbers separated by spaces to find even numbers:  1 2 3 4 5 6 7 8\n"
     ]
    },
    {
     "name": "stdout",
     "output_type": "stream",
     "text": [
      "Even numbers in [1, 2, 3, 4, 5, 6, 7, 8]: [2, 4, 6, 8]\n"
     ]
    }
   ],
   "source": [
    "# Function 10: Print even numbers from a list\n",
    "def even_numbers(lst):\n",
    "    return [num for num in lst if num % 2 == 0]\n",
    "\n",
    "# Function 10 Take input and display even numbers\n",
    "if __name__ == \"__main__\":\n",
    "    lst = list(map(int, input(\"Enter numbers separated by spaces to find even numbers: \").split()))\n",
    "    print(\"Even numbers in {}:\".format(lst), even_numbers(lst))"
   ]
  },
  {
   "cell_type": "code",
   "execution_count": 95,
   "id": "b60df5fd-4d94-4e26-8ca7-f0e690c51580",
   "metadata": {},
   "outputs": [
    {
     "name": "stdin",
     "output_type": "stream",
     "text": [
      "Enter a number to check if it's perfect:  6\n"
     ]
    },
    {
     "name": "stdout",
     "output_type": "stream",
     "text": [
      "Is 6 a perfect number?: True\n"
     ]
    }
   ],
   "source": [
    "# Function 11: Check if a number is perfect\n",
    "def is_perfect(num):\n",
    "    divisors_sum = sum(i for i in range(1, num) if num % i == 0)\n",
    "    return divisors_sum == num\n",
    "\n",
    "# Function 11 Take input and display if the number is perfect\n",
    "if __name__ == \"__main__\":\n",
    "    num = int(input(\"Enter a number to check if it's perfect: \"))\n",
    "    print(\"Is {} a perfect number?:\".format(num), is_perfect(num))"
   ]
  },
  {
   "cell_type": "code",
   "execution_count": 97,
   "id": "21deb97d-fd4b-430e-bd49-5f28ea41e155",
   "metadata": {},
   "outputs": [
    {
     "name": "stdin",
     "output_type": "stream",
     "text": [
      "Enter a string to check if it's a palindrome:  2\n"
     ]
    },
    {
     "name": "stdout",
     "output_type": "stream",
     "text": [
      "Is '2' a palindrome?: True\n"
     ]
    }
   ],
   "source": [
    "# Function 12: Check if a string is a palindrome\n",
    "def is_palindrome(string):\n",
    "    cleaned = ''.join(char.lower() for char in string if char.isalnum())\n",
    "    return cleaned == cleaned[::-1]\n",
    "\n",
    "# Function 12 Take input and display if the string is a palindrome\n",
    "if __name__ == \"__main__\":\n",
    "    string = input(\"Enter a string to check if it's a palindrome: \")\n",
    "    print(\"Is '{}' a palindrome?:\".format(string), is_palindrome(string))"
   ]
  },
  {
   "cell_type": "code",
   "execution_count": null,
   "id": "731b77ae-4ebc-468f-87eb-cb20b97ded27",
   "metadata": {},
   "outputs": [],
   "source": []
  }
 ],
 "metadata": {
  "kernelspec": {
   "display_name": "Python 3 (ipykernel)",
   "language": "python",
   "name": "python3"
  },
  "language_info": {
   "codemirror_mode": {
    "name": "ipython",
    "version": 3
   },
   "file_extension": ".py",
   "mimetype": "text/x-python",
   "name": "python",
   "nbconvert_exporter": "python",
   "pygments_lexer": "ipython3",
   "version": "3.12.4"
  }
 },
 "nbformat": 4,
 "nbformat_minor": 5
}
