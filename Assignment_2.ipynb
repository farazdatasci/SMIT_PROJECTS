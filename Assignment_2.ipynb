{
 "cells": [
  {
   "cell_type": "markdown",
   "id": "9eb21026-2462-47ba-85e8-2852527523a0",
   "metadata": {},
   "source": [
    "#### Assignment# 2"
   ]
  },
  {
   "cell_type": "code",
   "execution_count": 14,
   "id": "0a4f213a-951e-449a-9209-b20627002a50",
   "metadata": {},
   "outputs": [
    {
     "name": "stdin",
     "output_type": "stream",
     "text": [
      "Enter length of area :  2\n",
      "Enter length of area :  3\n"
     ]
    },
    {
     "name": "stdout",
     "output_type": "stream",
     "text": [
      "Total Area is {(6.0,)}\n"
     ]
    }
   ],
   "source": [
    "'''\n",
    "1) Area of a Rectangle:\n",
    "Write a Python program to calculate the area of a rectangle. Use the formula:\n",
    "𝐴𝒓𝒆𝒂 = 𝒍𝒆𝒏𝒈𝒕𝒉 × 𝒘𝒊𝒅𝒕𝒉\n",
    "Take length and width as inputs from the user'''\n",
    "\n",
    "\n",
    "len = float(input(\"Enter length of area : \" ))\n",
    "width= float(input(\"Enter length of area : \"))\n",
    "area = len * width,\n",
    "print(\"Total Area is\",{area}) \n",
    "      "
   ]
  },
  {
   "cell_type": "code",
   "execution_count": 22,
   "id": "dfedeb1b-a384-4ea7-8f60-9c6c9eb58eea",
   "metadata": {},
   "outputs": [
    {
     "name": "stdin",
     "output_type": "stream",
     "text": [
      "Enter radius value :  4\n"
     ]
    },
    {
     "name": "stdout",
     "output_type": "stream",
     "text": [
      "The Circumference of a Circle is :  {25.12} cm\n"
     ]
    }
   ],
   "source": [
    "'''\n",
    "2) Circumference of a Circle:\n",
    "Write a Python program to calculate the circumference of a circle. Use the formula:\n",
    "𝑪𝒊𝒓𝒄𝒖𝒎𝒇𝒆𝒓𝒆𝒏𝒄𝒆 = 𝟐𝝅𝒓\n",
    "Take the radius r as input from the user.'''\n",
    "rad = float(input(\"Enter radius value : \"))\n",
    "circ = 2 * 3.14 * rad\n",
    "print(\"The Circumference of a Circle is : \",{circ},\"cm\")\n"
   ]
  },
  {
   "cell_type": "code",
   "execution_count": 3,
   "id": "d77184b8-61a4-4bb8-a9b4-a8cac3830182",
   "metadata": {},
   "outputs": [
    {
     "name": "stdin",
     "output_type": "stream",
     "text": [
      "Enter Principal value :  20\n",
      "Enter Rate value :  50\n",
      "Enter Time value :  10\n"
     ]
    },
    {
     "name": "stdout",
     "output_type": "stream",
     "text": [
      "The 𝑺𝒊𝒎𝒑𝒍𝒆 𝑰𝒏𝒕𝒆𝒓𝒆𝒔𝒕 is :  {10000.0}\n"
     ]
    }
   ],
   "source": [
    "'''\n",
    "3) Simple Interest:\n",
    "Write a Python program to calculate the simple interest. Use the formula:\n",
    "𝑺𝒊𝒎𝒑𝒍𝒆 𝑰𝒏𝒕𝒆𝒓𝒆𝒔𝒕 = 𝑷𝒓𝒊𝒏𝒄𝒊𝒑𝒂𝒍 × 𝑹𝒂𝒕𝒆 × 𝑻𝒊𝒎𝒆\n",
    "Take Principal, Rate, and Time as inputs from the user. '''\n",
    "\n",
    "p = float(input(\"Enter Principal value : \"))\n",
    "r = float(input(\"Enter Rate value : \"))\n",
    "t = float(input(\"Enter Time value : \"))\n",
    "SI = p * r * t\n",
    "print(\"The 𝑺𝒊𝒎𝒑𝒍𝒆 𝑰𝒏𝒕𝒆𝒓𝒆𝒔𝒕 is : \",{SI})"
   ]
  },
  {
   "cell_type": "code",
   "execution_count": 7,
   "id": "7e55daa8-09b1-430a-8e5b-ed658e19431a",
   "metadata": {},
   "outputs": [
    {
     "name": "stdin",
     "output_type": "stream",
     "text": [
      "Enter Distance value of an object:  100\n",
      "Enter Time value of an object :  2\n"
     ]
    },
    {
     "name": "stdout",
     "output_type": "stream",
     "text": [
      "The 𝑺peed of an object is is :  {50.0}\n"
     ]
    }
   ],
   "source": [
    "'''\n",
    "4) Speed of an Object:\n",
    "Write a Python program to calculate the speed of an object. Use the formula:\n",
    "𝑆𝒑𝒆𝒆𝒅 = 𝑫𝒊𝒔𝒕𝒂𝒏𝒄𝒆 / 𝑻𝒊𝒎𝒆\n",
    "Take Distance and Time as inputs from the user. '''\n",
    "d = float(input(\"Enter Distance value of an object: \"))\n",
    "t = float(input(\"Enter Time value of an object : \"))\n",
    "s = d // t\n",
    "print(\"The 𝑺peed of an object is : \",{s})"
   ]
  },
  {
   "cell_type": "code",
   "execution_count": 9,
   "id": "db6cae69-91a8-49b6-9fe9-9f6ebd928958",
   "metadata": {},
   "outputs": [
    {
     "name": "stdin",
     "output_type": "stream",
     "text": [
      "Enter weight of body in Kg. :  80\n",
      "Enter height of body in meter. :  1.79832\n"
     ]
    },
    {
     "name": "stdout",
     "output_type": "stream",
     "text": [
      "The Body Mass Index(BMI) of that person is :  {24.0}\n"
     ]
    }
   ],
   "source": [
    "'''\n",
    "5) BMI Calculator:\n",
    "Write a Python program to calculate the Body Mass Index (BMI). Use the formula:\n",
    "BMI = weight (kg) / height 2 \n",
    " Take Weight (in kilograms) and Height (in meters) as inputs from the user. '''\n",
    "\n",
    "w = float(input(\"Enter weight of body in Kg. : \"))\n",
    "h = float(input(\"Enter height of body in meter. : \"))\n",
    "bmi = w // (h*h)\n",
    "print(\"The Body Mass Index(BMI) of that person is : \",{bmi})\n"
   ]
  },
  {
   "cell_type": "code",
   "execution_count": 1,
   "id": "a28827ca-02eb-4009-8674-24c837f4b86a",
   "metadata": {},
   "outputs": [
    {
     "name": "stdin",
     "output_type": "stream",
     "text": [
      "Enter mass in Kg. :  70\n",
      "Enter acceleration in meters/second² :  30\n"
     ]
    },
    {
     "name": "stdout",
     "output_type": "stream",
     "text": [
      "The Force an object is :  {2100.0}\n"
     ]
    }
   ],
   "source": [
    "'''\n",
    "6) Force Using Newton's Second Law:\n",
    "Write a Python program to calculate the force on an object. Use the formula:\n",
    "Take m (mass in kilograms) and a (acceleration in meters/second²) as inputs from the\n",
    "user. '''\n",
    "\n",
    "m = float(input(\"Enter mass in Kg. : \"))\n",
    "a = float(input(\"Enter acceleration in meters/second² : \"))\n",
    "f = m * a\n",
    "print(\"The Force an object is : \",{f})\n"
   ]
  },
  {
   "cell_type": "code",
   "execution_count": 19,
   "id": "d026edba-4bc8-4ffd-a4c2-3fd1ea1aa0f4",
   "metadata": {},
   "outputs": [
    {
     "name": "stdin",
     "output_type": "stream",
     "text": [
      "Enter Principal amount value :  100000\n",
      "Enter Rate of intrest per year(in decimal) :  .05\n",
      "Enter number of times interest is compounded per year :  5\n",
      "Enter the time period for which principal is invested :  5\n"
     ]
    },
    {
     "name": "stdout",
     "output_type": "stream",
     "text": [
      "The Total amount after 5.0 years is $128243.20\n"
     ]
    }
   ],
   "source": [
    "'''\n",
    "7) Compound Interest:\n",
    "Write a Python program to calculate compound interest. Use the formula:\n",
    "𝒓\n",
    "𝒏\n",
    "n-t\n",
    "Where:\n",
    "A= total amount\n",
    "P = principal amount\n",
    "r = annual interest rate (decimal)\n",
    "n = number of times interest is compounded per year\n",
    "t = time in years\n",
    "Take P, r, n, and t as inputs from the user. '''\n",
    "\n",
    "p = float(input(\"Enter Principal amount value : \"))\n",
    "r = float(input(\"Enter Rate of intrest per year(in decimal) : \"))\n",
    "n = float(input(\"Enter number of times interest is compounded per year : \"))\n",
    "t = float(input(\"Enter the time period for which principal is invested : \"))\n",
    "\n",
    "# Calculate the total amount (A) using the compound interest formula\n",
    "A = p * (1 + r / n) ** (n * t)\n",
    "\n",
    "# Output: Total amount after interest\n",
    "print(f\"The Total amount after {t} years is ${A:.2f}\")\n"
   ]
  },
  {
   "cell_type": "code",
   "execution_count": 1,
   "id": "11c73999-75c6-4749-bbc5-4163aabe0d0c",
   "metadata": {},
   "outputs": [
    {
     "name": "stdin",
     "output_type": "stream",
     "text": [
      "Enter the length of side a:  2\n",
      "Enter the length of side b:  2\n",
      "Enter the length of side c:  2\n"
     ]
    },
    {
     "name": "stdout",
     "output_type": "stream",
     "text": [
      "The perimeter of the triangle is: 6.0\n"
     ]
    }
   ],
   "source": [
    "'''\n",
    "8) Perimeter of a Triangle:\n",
    "Write a Python program to calculate the perimeter of a triangle. Use the formula:  \n",
    " \n",
    "𝑷𝒆𝒓𝒊𝒎𝒆𝒕𝒆𝒓 = 𝒂 + 𝒃 + 𝒄 \n",
    "Take a, b, and c (lengths of the three sides) as inputs from the user. \n",
    "'''\n",
    "# Taking input from the user for the sides of the triangle\n",
    "a = float(input(\"Enter the length of side a: \"))\n",
    "b = float(input(\"Enter the length of side b: \"))\n",
    "c = float(input(\"Enter the length of side c: \"))\n",
    "\n",
    "# Calculate the perimeter using the formula\n",
    "perimeter = a + b + c\n",
    "\n",
    "# Display the result\n",
    "print(f\"The perimeter of the triangle is: {perimeter}\")"
   ]
  },
  {
   "cell_type": "code",
   "execution_count": 3,
   "id": "02b8e041-5db0-4708-bbb3-48490d6a1839",
   "metadata": {},
   "outputs": [
    {
     "name": "stdin",
     "output_type": "stream",
     "text": [
      "Enter the radius of the sphere:  2\n"
     ]
    },
    {
     "name": "stdout",
     "output_type": "stream",
     "text": [
      "The volume of the sphere is: 33.51029333333333\n"
     ]
    }
   ],
   "source": [
    "'''\n",
    "9) Volume of a Sphere:\n",
    "Write a Python program to calculate the volume of a sphere. Use the formula: \n",
    "Take r (radius) as input from the user. '''\n",
    "\n",
    "# Taking input from the user for the radius\n",
    "r = float(input(\"Enter the radius of the sphere: \"))\n",
    "\n",
    "# Define the value of pi\n",
    "pi = 3.14159\n",
    "\n",
    "# Calculate the volume using the formula\n",
    "volume = (4/3) * pi * r**3\n",
    "\n",
    "# Display the result\n",
    "print(f\"The volume of the sphere is: {volume}\")"
   ]
  },
  {
   "cell_type": "code",
   "execution_count": 5,
   "id": "fb701aff-daf0-40f6-b08c-362610c6fc41",
   "metadata": {},
   "outputs": [
    {
     "name": "stdin",
     "output_type": "stream",
     "text": [
      "Enter the mass of the object (in kilograms):  2\n",
      "Enter the velocity of the object (in meters/second):  5\n"
     ]
    },
    {
     "name": "stdout",
     "output_type": "stream",
     "text": [
      "The kinetic energy of the object is: 25.0 Joules\n"
     ]
    }
   ],
   "source": [
    "'''\n",
    "10) Kinetic Energy:\n",
    "Write a Python program to calculate the kinetic energy of an object. Use the formula: \n",
    "𝑲𝑬 =   𝟏 / 𝟐 𝒎 𝑽2\n",
    " \n",
    "Take m (mass in kilograms) and v (velocity in meters/second) as inputs from the user. '''\n",
    "\n",
    "# Taking input from the user for the mass and velocity\n",
    "m = float(input(\"Enter the mass of the object (in kilograms): \"))\n",
    "v = float(input(\"Enter the velocity of the object (in meters/second): \"))\n",
    "\n",
    "# Calculate the kinetic energy using the formula\n",
    "kinetic_energy = 0.5 * m * v**2\n",
    "\n",
    "# Display the result\n",
    "print(f\"The kinetic energy of the object is: {kinetic_energy} Joules\")"
   ]
  },
  {
   "cell_type": "code",
   "execution_count": 13,
   "id": "a8b59950-384e-4961-acae-9bca1a0cdfd0",
   "metadata": {},
   "outputs": [
    {
     "name": "stdin",
     "output_type": "stream",
     "text": [
      "Enter coefficient a:  5\n",
      "Enter coefficient b:  3\n",
      "Enter coefficient c:  1\n"
     ]
    },
    {
     "name": "stdout",
     "output_type": "stream",
     "text": [
      "The equation has no real roots.\n"
     ]
    }
   ],
   "source": [
    "'''\n",
    "11) Quadratic Equation Roots:\n",
    "Write a Python program to find the roots of a quadratic equation. Use the formula: \n",
    "X = - b ± √b2 -4ac / 2a\n",
    "Take a, b, and c as inputs from the user. '''\n",
    "# Taking input from the user for the coefficients a, b, and c\n",
    "a = float(input(\"Enter coefficient a: \"))\n",
    "b = float(input(\"Enter coefficient b: \"))\n",
    "c = float(input(\"Enter coefficient c: \"))\n",
    "\n",
    "# Calculate the discriminant\n",
    "discriminant = b**2 - 4*a*c\n",
    "\n",
    "# Check if the discriminant is positive, zero, or negative\n",
    "if discriminant > 0:\n",
    "    # Two real and distinct roots\n",
    "    root1 = (-b + (discriminant)**0.5) / (2 * a)\n",
    "    root2 = (-b - (discriminant)**0.5) / (2 * a)\n",
    "    print(f\"The roots are real and different: {root1} and {root2}\")\n",
    "elif discriminant == 0:\n",
    "    # One real root (repeated root)\n",
    "    root1 = -b / (2 * a)\n",
    "    print(f\"The root is real and the same: {root1}\")\n",
    "else:\n",
    "    # No real roots (complex roots)\n",
    "    print(\"The equation has no real roots.\")\n"
   ]
  },
  {
   "cell_type": "code",
   "execution_count": 3,
   "id": "b6b93eef-5156-46a4-b0ae-5b686232f6f4",
   "metadata": {},
   "outputs": [
    {
     "name": "stdin",
     "output_type": "stream",
     "text": [
      "Enter temperature in Celsius:  15\n"
     ]
    },
    {
     "name": "stdout",
     "output_type": "stream",
     "text": [
      "15.0°C is equal to 59.0°F\n"
     ]
    }
   ],
   "source": [
    "'''\n",
    "12) Temperature Conversion: \n",
    "Write a Python program to convert a temperature from Celsius to Fahrenheit. Use the\n",
    "formula:  \n",
    "F = 9/5 C + 32\n",
    "Take C (temperature in Celsius) as input from the user. ''' \n",
    "# Taking input from the user for temperature in Celsius\n",
    "celsius = float(input(\"Enter temperature in Celsius: \"))\n",
    "\n",
    "# Convert Celsius to Fahrenheit using the formula\n",
    "fahrenheit = (9/5) * celsius + 32\n",
    "\n",
    "# Display the result\n",
    "print(f\"{celsius}°C is equal to {fahrenheit}°F\")\n"
   ]
  },
  {
   "cell_type": "code",
   "execution_count": 5,
   "id": "5f488a3d-86ba-4ec2-be74-7d2ad8912538",
   "metadata": {},
   "outputs": [
    {
     "name": "stdin",
     "output_type": "stream",
     "text": [
      "Enter the force in newtons (N):  2\n",
      "Enter the area in square meters (m²):  4\n"
     ]
    },
    {
     "name": "stdout",
     "output_type": "stream",
     "text": [
      "The pressure exerted is 0.5 pascals (Pa).\n"
     ]
    }
   ],
   "source": [
    "'''\n",
    "15) Pressure:\n",
    " \n",
    "Write a Python program to calculate the pressure exerted by a force on a surface. Use\n",
    "the formula: \n",
    "𝑷 =  𝑭 / 𝑨\n",
    " \n",
    "P = pressure \n",
    "F = force \n",
    "A = area \n",
    "\n",
    "Take F(force) and A(area) as inputs from the user.'''\n",
    "\n",
    "# Taking inputs from the user for force (F) and area (A)\n",
    "force = float(input(\"Enter the force in newtons (N): \"))\n",
    "area = float(input(\"Enter the area in square meters (m²): \"))\n",
    "\n",
    "# Calculate pressure using the formula P = F / A\n",
    "pressure = force / area\n",
    "\n",
    "# Display the result\n",
    "print(f\"The pressure exerted is {pressure} pascals (Pa).\")"
   ]
  },
  {
   "cell_type": "code",
   "execution_count": null,
   "id": "f39985e3-7839-49dc-9dce-edaa6a79de30",
   "metadata": {},
   "outputs": [],
   "source": [
    "'''\n",
    "16) Electric Power: \n",
    "Write a Python program to calculate the electric power consumed. Use the formula: \n",
    "where: \n",
    "P = power \n",
    "V = voltage \n",
    "I = current \n",
    " \n",
    "Take V(voltage) and I(current) as inputs from the user.'''\n",
    "# Taking inputs from the user for voltage (V) and current (I)\n",
    "voltage = float(input(\"Enter the voltage in volts (V): \"))\n",
    "current = float(input(\"Enter the current in amperes (A): \"))\n",
    "\n",
    "# Calculate power using the formula P = V * I\n",
    "power = voltage * current\n",
    "\n",
    "# Display the result\n",
    "print(f\"The electric power consumed is {power} watts (W).\")\n"
   ]
  },
  {
   "cell_type": "code",
   "execution_count": 7,
   "id": "d45cbd3f-1149-4096-8a4a-7f5456c182ea",
   "metadata": {},
   "outputs": [
    {
     "name": "stdin",
     "output_type": "stream",
     "text": [
      "Enter the radius of the circle:  3\n"
     ]
    },
    {
     "name": "stdout",
     "output_type": "stream",
     "text": [
      "The circumference (perimeter) of the circle is 18.85 units.\n"
     ]
    }
   ],
   "source": [
    "'''\n",
    "17) Perimeter of a Circle (Circumference):\n",
    "Write a Python program to calculate the perimeter (circumference) of a circle. Use the \n",
    "formula: \n",
    " \n",
    "Take r (radius) as input from the user. '''\n",
    "\n",
    "import math  # Import the math module to use the value of pi\n",
    "\n",
    "# Taking input from the user for the radius (r)\n",
    "radius = float(input(\"Enter the radius of the circle: \"))\n",
    "\n",
    "# Calculate the circumference using the formula C = 2 * pi * r\n",
    "circumference = 2 * math.pi * radius\n",
    "\n",
    "# Display the result\n",
    "print(f\"The circumference (perimeter) of the circle is {circumference:.2f} units.\")\n"
   ]
  },
  {
   "cell_type": "code",
   "execution_count": 1,
   "id": "91727933-2453-4f20-b75a-f771759731bd",
   "metadata": {},
   "outputs": [
    {
     "name": "stdin",
     "output_type": "stream",
     "text": [
      "Enter the present value (PV):  2\n",
      "Enter the annual interest rate (r) as a decimal:  3\n",
      "Enter the time in years (t):  4\n"
     ]
    },
    {
     "name": "stdout",
     "output_type": "stream",
     "text": [
      "The future value of the investment is: 512.00\n"
     ]
    },
    {
     "name": "stdin",
     "output_type": "stream",
     "text": [
      "Enter the present value (PV):  4\n",
      "Enter the annual interest rate (r) as a decimal:  .1\n",
      "Enter the time in years (t):  1\n"
     ]
    },
    {
     "name": "stdout",
     "output_type": "stream",
     "text": [
      "The future value of the investment is: 4.40\n"
     ]
    }
   ],
   "source": [
    "'''\n",
    "18) Future Value in Savings: \n",
    "Write a Python program to calculate the future value of an investment. Use the formula:  \n",
    "where: \n",
    "o FV= future value \n",
    "o PV= present value \n",
    "𝐹𝑉 = 𝑃𝑉(1 + 𝑟)\n",
    "o r= annual interest rate (as a decimal) \n",
    "o t= time in years \n",
    "Take PV, r, and t as inputs from the user. '''\n",
    "# Taking inputs from the user for present value (PV), annual interest rate (r), and time (t)\n",
    "pv = float(input(\"Enter the present value (PV): \"))\n",
    "r = float(input(\"Enter the annual interest rate (r) as a decimal: \"))\n",
    "t = float(input(\"Enter the time in years (t): \"))\n",
    "\n",
    "# Calculate the future value using the formula FV = PV * (1 + r) ** t\n",
    "fv = pv * (1 + r) ** t\n",
    "\n",
    "# Display the result\n",
    "print(f\"The future value of the investment is: {fv:.2f}\")\n",
    "\n",
    "# Taking inputs from the user for present value (PV), annual interest rate (r), and time (t)\n",
    "pv = float(input(\"Enter the present value (PV): \"))\n",
    "r = float(input(\"Enter the annual interest rate (r) as a decimal: \"))\n",
    "t = float(input(\"Enter the time in years (t): \"))\n",
    "\n",
    "# Calculate the future value using the formula FV = PV * (1 + r) ** t\n",
    "fv = pv * (1 + r) ** t\n",
    "\n",
    "# Display the result\n",
    "print(f\"The future value of the investment is: {fv:.2f}\")"
   ]
  },
  {
   "cell_type": "code",
   "execution_count": 13,
   "id": "67984626-1179-4cee-a6e0-b21954e29831",
   "metadata": {},
   "outputs": [
    {
     "name": "stdin",
     "output_type": "stream",
     "text": [
      "Enter the present value (PV):  1\n",
      "Enter the annual interest rate (r) as a decimal:  1\n",
      "Enter the time in years (t):  1\n"
     ]
    },
    {
     "name": "stdout",
     "output_type": "stream",
     "text": [
      "The future value of the investment is: 2.00\n"
     ]
    }
   ],
   "source": [
    "'''\n",
    "19) Work Done by a Force: \n",
    "Write a Python program to calculate the work done by a force. Use the formula:\n",
    "\n",
    "            W = f.d Cos0\n",
    "\n",
    "where: \n",
    "W = work done \n",
    "f= force \n",
    "d = distance \n",
    "theta = angle between force and direction of movement (in degrees) \n",
    " \n",
    "Take f, d, and θ as inputs from the user.'''\n",
    "# Taking inputs from the user for present value (PV), annual interest rate (r), and time (t)\n",
    "pv = float(input(\"Enter the present value (PV): \"))\n",
    "r = float(input(\"Enter the annual interest rate (r) as a decimal: \"))\n",
    "t = float(input(\"Enter the time in years (t): \"))\n",
    "\n",
    "# Calculate the future value using the formula FV = PV * (1 + r) ** t\n",
    "fv = pv * (1 + r) ** t\n",
    "\n",
    "# Display the result\n",
    "print(f\"The future value of the investment is: {fv:.2f}\")"
   ]
  },
  {
   "cell_type": "code",
   "execution_count": 15,
   "id": "5bdf57d1-244a-474d-8a01-ea2434516e2a",
   "metadata": {},
   "outputs": [
    {
     "name": "stdin",
     "output_type": "stream",
     "text": [
      "Enter the mass of the substance (m) in kilograms:  2\n",
      "Enter the specific heat capacity (c) in joules per kilogram per degree Celsius:  1.2\n",
      "Enter the change in temperature (ΔT) in degrees Celsius:  2\n"
     ]
    },
    {
     "name": "stdout",
     "output_type": "stream",
     "text": [
      "The amount of heat transferred is 4.8 joules.\n"
     ]
    }
   ],
   "source": [
    "'''\n",
    "20) Heat Transfer: \n",
    "Write a Python program to calculate the amount of heat transferred. Use the formula:  \n",
    "where: \n",
    "Q= heat transfer\n",
    "m = mass\n",
    "c = specific heat capacity\n",
    "ΔT \n",
    "Take m, c, T as inputs from the user. \n",
    "𝑄 = 𝑚𝑐 (∆T) '''\n",
    "# Taking inputs from the user for mass (m), specific heat capacity (c), and temperature change (ΔT)\n",
    "mass = float(input(\"Enter the mass of the substance (m) in kilograms: \"))\n",
    "specific_heat_capacity = float(input(\"Enter the specific heat capacity (c) in joules per kilogram per degree Celsius: \"))\n",
    "temperature_change = float(input(\"Enter the change in temperature (ΔT) in degrees Celsius: \"))\n",
    "\n",
    "# Calculate the heat transferred using the formula Q = m * c * ΔT\n",
    "heat_transferred = mass * specific_heat_capacity * temperature_change\n",
    "\n",
    "# Display the result\n",
    "print(f\"The amount of heat transferred is {heat_transferred} joules.\")"
   ]
  },
  {
   "cell_type": "code",
   "execution_count": null,
   "id": "6a0887e0-d99f-405c-95ba-a89f3ed914a6",
   "metadata": {},
   "outputs": [],
   "source": []
  }
 ],
 "metadata": {
  "kernelspec": {
   "display_name": "Python 3 (ipykernel)",
   "language": "python",
   "name": "python3"
  },
  "language_info": {
   "codemirror_mode": {
    "name": "ipython",
    "version": 3
   },
   "file_extension": ".py",
   "mimetype": "text/x-python",
   "name": "python",
   "nbconvert_exporter": "python",
   "pygments_lexer": "ipython3",
   "version": "3.12.4"
  }
 },
 "nbformat": 4,
 "nbformat_minor": 5
}
